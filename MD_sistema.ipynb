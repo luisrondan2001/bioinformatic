{
  "nbformat": 4,
  "nbformat_minor": 0,
  "metadata": {
    "colab": {
      "provenance": [],
      "include_colab_link": true
    },
    "kernelspec": {
      "name": "python3",
      "display_name": "Python 3"
    },
    "language_info": {
      "name": "python"
    }
  },
  "cells": [
    {
      "cell_type": "markdown",
      "metadata": {
        "id": "view-in-github",
        "colab_type": "text"
      },
      "source": [
        "<a href=\"https://colab.research.google.com/github/luisrondan2001/bioinformatic/blob/main/MD_sistema.ipynb\" target=\"_parent\"><img src=\"https://colab.research.google.com/assets/colab-badge.svg\" alt=\"Open In Colab\"/></a>"
      ]
    },
    {
      "cell_type": "markdown",
      "source": [
        "# **Sistema de partículas que interactúan a través de un potencial de Lennard-Jones**\n",
        "\n",
        "---\n",
        "\n",
        "\n",
        "\n",
        "---\n",
        "\n",
        "\n",
        "\n",
        "---\n",
        "\n",
        "\n",
        "⚛*MPC*"
      ],
      "metadata": {
        "id": "vsAVJzgqhupg"
      }
    },
    {
      "cell_type": "code",
      "execution_count": null,
      "metadata": {
        "id": "xkzMhEOLeT2R"
      },
      "outputs": [],
      "source": [
        "import numpy as np #importing the numpy library"
      ]
    },
    {
      "cell_type": "markdown",
      "source": [
        "\n",
        "\n",
        "##1. **Posiciones iniciales en configuración cristalina**\n",
        "\n",
        "---\n",
        "\n",
        "Cúbico simple:\n",
        "\n",
        "![simple cubic.png](data:image/png;base64,iVBORw0KGgoAAAANSUhEUgAAAPoAAADiCAYAAABnadrLAAAAAXNSR0IArs4c6QAAAARnQU1BAACxjwv8YQUAAAAJcEhZcwAAFiUAABYlAUlSJPAAAABhaVRYdFNuaXBNZXRhZGF0YQAAAAAAeyJjbGlwUG9pbnRzIjpbeyJ4IjowLCJ5IjowfSx7IngiOjI1MSwieSI6MH0seyJ4IjoyNTEsInkiOjIyN30seyJ4IjowLCJ5IjoyMjd9XX2qLwG/AAA0gklEQVR4Xu2dB5xURdLAa8k5w5KzCAJKXJIoUc7F7Kmo6Cnn6SF6dwoGTOfnnWJA9E5PFMmgooAoKCggcJKzSFhyhoUl77KwbOrv/ds3HOKGYXem981s//nNj503M2963uvqqq6qro5QDmKxWMKaAu7/FosljLGCbrHkA6ygWyz5ACvoFks+wAq6xZIPsIJuseQDrKBbLPkAK+gWSz7ACrrFkg+wgm6x5AOsoFvk3Llz0rdvX7nxxhvlv//9r3vUEk5YQbdIXFycHDp0SObOnSsrVqyQ06dPu69YwgUr6PmctLQ0mTp1quzatUsKFSokP//8s8TExLivWsIFK+j5nHXr1snq1avl5MmTcvnll2vNvmzZMjl56qT7Dks4YJep5mPi4+Pl1Vdf1Vq9fv36UqtWLZk1a5YkJCTIQw89JNdee637TkuoYzV6PoXx/bvvv5OtW7fK1VdfLXfccYd069ZNevTooQV/6dKlcvToUffdllDHCno+Zffu3TLz25nSunVrad68ucyYMUMWL14szZo1kyZNmsiGDRu0Yy49Pd39hCWUsYKeTxk5cqT2rqPBK1SoID/++KMsX75cihUrJl27dtWOudmzZ8uRI0fcT1hCGSvo+ZSUlBQt0A0aNJCCBQtK0aJFJTU1VT+uvPJKueKKK+Ts2bP6YQl9rKDnUx555BG5+eabpUyZMhIREaEFmnk7Ql+yZEntiOP1ypUru5+whDKe9bqfOXNGEhMTdeezBJfk5GQZNmyY1KlbV3r16iUVypd3X7EEEwbVEiVKSPHixd0jwcOzgv7dd99JgQIF9MMSfNDozMsLFy7sHrEEG6ZPlSpVkrZt27pHgodRQWf+x9cxkmUnwHfeeafcd999Ut5ql6CDZ51suNKlS0u1atWssBuCLEQs10GDBrlHgocxQWf02r59u/bi1qlTR2rXrq3nhpnx1FNPydNPP23niAZAm//xj3+UK5peIX/s90ct7JbgQ5Rj27ZtekFRsDFiFzOW7Nu3T/75z39qJw/zQRuf9Q5YWmXLlpWU5BTrZQ9TjAg6Qk2cdv369TqMw3O7Qspb2IE3vDEi6Lv37JZFixbJ8ePHJTIyUmdlzZs3z33VktfghGOpKlMpvMCW8CPogk7e9DczvtHLINu3by/9+/fXq6QWLlwoe/bscd9lyUvIhhsxYoQMHDhQqlSp4h61hBNBF3S8uSyDbNGihTz77LMyYMAAue666/TKqUmTJunqJpa8RWvykiX0tMqGM8OToN5VEjGmTZsmp06d0iuk8LQj2M2aN5M2bdrotdBLlixx323JK7gngwcP1vnvdsVaeBJUQWf109q1a6VDhw56ldRnn32mY4YbN27UZjxhnMmTJ+tiB5a8g9Bn4ulEOXz4sHWShilBFfQdO3ZIVFSUTqtEqNEcVDI5e+asXHbZZfp4uXLl5MCBA+4nLHkB4U/SjQmtWe97eBJUQcdcv6vPXdr5RrYVTh8ePu8ugwDZbyTQWPKOIkWKSNOmTfUCF6ZblvAjqILOEsh6deudD9kQWqOoQdWqVbWwo815Tr6vJe9gEKbCzE033WS97mFKUAX9YtDgt912mzRs2NA9YvECmO4HDx60cfQwxqigoy0w00uVKuUesXgBzPVvv/1Wb96AD8USfhgVdLzwhNtY3GLxDuS6nzhxQmIPxerVVJbww6igr1y5Ur788ktdedTiLQixpadZj3u4YlTQ8bgzB2Q9el5B+IgwUqh5l5lHI4y0O9Ari8l1J5mJaRVlpAINadC0PRQhJIzFE+oYFXQ6EYUkTJTOuRgEhKwvUnLJsydph/mo1zsgQkJmIesCKMe8atUqnXdABwyUwHM//va3v+l10YHyutM2BlSSoX766SedAclSZRY2eV1waDt9ZefOndpvsWnTJv08KSnJfUfoUfBlB/fvoEOnRXNQYZSYbVbMmTNHOnXqFBANg1CsXLVSvv/+exk7dqzOxuMmJp1L0q/5CiLidfYKdDauF95wdk9hf7R3331X+zmOHjuqQ2KsH0dIc1sRhu9iMOH3ByLfncGT1XAMStSLZ8EMWZEMrAxSfEfFihXz1LLLDK45xSC++uorfc3fe+89/Zy2k1SEVco1D0TbuRYMfFTdDTrOTTaCYzIr50KpI0eOqPj4eP08KwYNGqSczuI+yzmOVlGOcKgmTZqg/n71KF26tGrUqJF67vnnVEJCgvsJb+AMQGrr1q3KGYd/024eDRo0UD179tS/LbtrmR3OgKcGPzdYjRk7Rjkdzz2aM2jLzl071fMvPK8aNmyoihQp8qt287xDhw5q3bp1+r25bXugoB2OkKvNmzerzp07K2cw+lW7nUFQ95dHH31UOUoiIO1etmyZmjBhgvssuBg13Sk+MWTIEJk5c6Z7JPiwcg6jJaMlsewxhsbcuWOnHrWd6+G+kvfs279Phn84XEaNGuUe+TWkF6MxWeuPSZmbtiefS5YD+w/Itq3btPc9NzgCIAvmL5DpX0/X0ZWLfSE8p92sYgyGvyGn0A5WVPbr109vMomldyG8Tn/hNUpA8TtDCWOCjlmIMDFnI45uykxmUGEfsczCRizimD9/vkyZMsVT8/W4w3Eya+YsPa/NDIRy2pfTdBQjtwITKHMUU5Sih1mtX+A6b9myRQuMlwQdXwLz8az6AVtV0V/4naGEUY2eF/gz32Q+uWDBAj0geAl/BA8Nw3Lf3K46279/v56DBmIA9ucctJd6BF4RdH/BCqFa0vTp090joYFRQacDoM0pK2wKfzodnY2Hl8oc025/2o6JiemOEymn4Igc+vZQGThooN46Obf403Y8716bLoE/1xyzPTfXOy8wKuj33HOPni+3btPaPeINGHiIBuRF2C+34L1m8MyNp5zPNmzQUC86MuUJx3sdHR3tl2B5CVb6Va9eXfeXUMKooJMsQ1nhokWKukeCDyvk+N7MOhShHhJFqHjDclqv4NN0dKzM4Hf17NlTF/XIzfoB5qTDhw/XPoHcTgG4npwvu5gz76PtXipdVSWySrZWHTvPtmzZ0lN9xR+MXmXi16+99pqsWbPGPRJ8WC2H5mAjiIyEnY7GnuC9e/f21MotOhLVeHy7nV4MvwXhZs0/A1VuNDHzThKJKMedW68715CtmLt3766tjYyuOfeCBB1WMXpFo9MP6tatqzcOqVevXoYDEG1t2aql9L6ht9bqoYTRhBlKPNOZqC7DIysClTBDYg5mFmWSyG7y7S+GuV6/fn1d5YaMsFatWhkzW/0BjUdVHqYTONsQIDLNyFzD7GXLY0JBCBXZhrkRGOb57IXOd5K8kZttsBAQ6gvw4HozcHBe4BjXnSnco48+qrWjVwSddtAvEHIiNEQyaKtvcwvazuYj7Gij+2WJ3CdymUyYMbr3GllGeIm50WjQrAjklkzcLEInZMPt3btXO4EQfirT8j83Nzemb7Cg3UQESB8li2/eD/N0p6NjNG7cWGtEhJLBKzcQH6YDM/CxnTLXIzfQpci0I82Y/AWEhnLf3bp3k+LFistVV13lWdOXttM/sDq5/oRnGzVqpLM5sZxoN9PBQGBySyajgv6f//xHF4tE0Lt16+YezZhA773Gz8RTioYhlo82odINGsgrWiUjaDdeXp+XmvYiiGhJ2h2ItmO6M63CGUdxkOzSk/3F552OjY2VY8eO6cEJrZnbgSnY+PoKDyxQrCisKyy+jEz6nBK2gs4yVcw55sTZhXHsJotmwQmHEOL88/LAF06E3SaLPjDZmFuGmiMj3EFzsViGbLWLUz8t4YFRQWfewwqyrNI6LebBdKcgCM5SW0oqPDEq6KztHTdunM4ntngH5v/EvvEA21JS4YlRQSdERLjIoFvA4ic4mhB4Hpbww6ig+2KVXve65je4H4Tq8C4H0qts8Q5G7+qFGzhYvAMJOA8//LD8+c9/1rF0S/hhVNBJRyWt00jpHIvfpKWnyZy5c3RSUSjXRbNkjlFBJ1vqyJEjtjN5DDa9HDd2nHzxxRd2Z9swxaigv//++/LQQw/pIg8Wb0Hml8k6ARazGBV0coRJrwy1elv5AcJrJM7YiEh4YlTQA5WbbQkshDx/97vfyfXR12vNbgk/jAo63l1y1wO1+scSGIihs1y3VctW+h5Zwg+jgs7+2xQcsF53b4G5ziotUpMx3y3hh1FBpxNR65vFE7ZDeQeiIJ9++qlMnzFdR0Us4YcxQU9JTdG57t98842u9mLn6t6BQZdlqsePHbehzzDFmKAXiCigBZwHpqJNtfQWpCYzV7de9/DEmLTRiVjrzJJIK+TeonCRwnJVi6t0vQDrKA1PjEocZXKpyGrzqb0FVWWir4+Wa665xgp6mGJU0KmiSb247CrAWswS4fxjns7Dmu7hiVFBpxIopYspFGjxDkyncJIuXLhQr0ewhB9GBZ1SRWPHjtWbBVi8A4LODqisXrOlpMITo4JO9RL2oM7ttj+WwMM83RYECV+MCjqLWewc0HsQBcEJxyOrvd4soYtRQacTsdOIXQ7pLajl9/vf/15uueUWu6glTDEq6A8++KAMHTpUOnbs6B6xeAGsLJYPh+K20Rb/MCroJM0ULFSQeI7FQyQmJsrAgQP1IGxr7ocnRgV99OjRMvjZwbJyxUr3iMUr1KxZU+9ca30o4YlRQaeKiW8rXYu3QMDtQqPwxaigAx3Kag1vgZMUjztbSNsU2PDEqKCzkT9a3cZrvQWC/pe//EV73YmKWMIPo4J+6623ylNPPyWtWrdyj1i8ACY7+63zsCsLwxOjd7VO3Tq6jFSF8hXcIxYvgKX17rvv6iozcXFx7lFLOGFU0BfMXyATJ0zUm7/nFVRQ2bNnT8gtrCGrEEfmocOHAr4RIufbu3ev7N69W4faAg3nPHY8NBcyMfCRsh3qfqWCLzu4fwedmTNnytKlS6VOnTrSoEED92jGzJkzRzp16qRDPoGAwYVSVrNnz9bn3rx5syQkJGh/QalSpXSM32vQuWjj3Llz9b7yrDBj4cmB/Qe0mU1GG+3PrbecRS3z58/X8/MWLVpI+fLl3VdyDuek4CTt5r5/P/t7PZAwoNSoUUO336uwHmPaV9Pkxx9/lK+//lrXONy/f7++zjgrA9VXDhw4oLeqNlEs1aigr1ixQt/opk2bSqNGjdyjGRMoQU9X6bJ161b58MMP5bPPPtMr6FavXq07Ifu079y5U99ABh8vOQnR4FgdCMkHH3yg/1+2bJls2LBBC/vBgwf1taxevXquPeV81+LFi7UAUmWGgS830Hl/+OEHGT9+vEybNk1fc+49K+TWrl2rl8LWq1dPZ+N5DTT4xx9/LKNGjtLtXrJkie4rtBvlgEXIQBgIp6VJQUdrGMHpTMqZA6oBAwaoGTNm6OdZMWjQIOVcdPdZzlm1apUaOHCgioyMxPb61cMZmZVzw9T999+vnFFbpaWluZ/Kew4dOqQcAVdRUVHKGYB+03ZHSFSTJk3UpEmTlCM47qdyhmO6K8fSUU5nVs583T2aMxwzXTmWh+rdu7e+the33RlU9b148cUXlTNYZdsPTMG9dwZONWzYMFWzZk1VoECBX7WbB7+lVatWasyYMcoRePeTOccZuNWECRPcZ8HF6BydUlLsCFKrVi33SPBBs7B5YEZljKmogmnMiM2Ugpp2XoHRHufYypUrM5yTY17ynkWLFun/0co5BVO0Q4cOekvr3JrUzMexPHya++K2O31Oa81x48bp6RTPvQDtwLpDm8fGxmZ4PfktWIeO8gi5pC9jgu6b32C2UzMut/NKf8GRwiMzQeA4N5j5u5dqmjPHpQhEVoKAsDMNoXJPbgYpchuYKjGoBMIZd+bMmSzbw29iEEBgvCLoQFvYTRYFkBlcK9YD7Nixwz0SGhjV6MwDJ0+e7LmLRKfD4YJmDDWIIOAoyk09dj47ceJE7XgyFV5jMMDvkBtLJC9gAEOrb9y40T0SGhgVdDQnJrLJFVKM0tlpDZxwOP28tO+YP+0GlpbS7twmurAnXqCWqfrTdqYLzlzdfeYdsms3lijRjlCrqWBU0Jn/mRam7LK9eK1q1arSunVr7Qn2CnQo3yMzaDseWyIYdL6cwncw2HFvchs6ok1o6ew0NZ596hMEKlQVCPzxT6AQiEzQX0IJo4JOR6JDmry5bdu2lbp162ZaIokQDzfNazXNCd8gxLQpI2FHoAitsXHl5ZdfrndaySlFixWVK664QjtLK1as6B7NGQgwVWoqVKiQaZsYVFhA06ZNmywHMpNwPRkwWa6bWf/kOP4lwr5eUgp+4Zgqxjh27JgOG/kTwglUeA0IHTkCr5wRW4dNeDg3TTmmqurQoYNy5qcBCZcEGmeqox544AHlCI1usyMU59teo0YN9cILL6hdu3YFJERFeInzBORc6Wlq4icTVfv27ZWjAc+3nXY7wq+cAUzFxsa67/YWhNiaNm2q20l7L2x348aN1fvvv6/i4+Pdd+cOk+E1owkzzAEZ8RnRsyOQmXFk4VWtVlXiT8VrLcN8FC14ww03yGOPPSa9e/fOlUYMFmhzLBJCOYR2cAShddgA4+2339abYVSpUiUgWhG/idMftNWV2/Px+cqVKmsrijZzXkfYpVWrVtpyGvHxCKlZo6b7bm+BJRXdO1r27tsr5cqW045KLCva7Qy6emFWoCw/kwkzEUi7+3fQIZUTDzECnN1uLU899ZQ8/fTTWigDAWERQlaEpPCwY6I2bNjw/OaCgRCWQMOt4YGw0H7CaPxPuxkAGTAD0W5yCejEDIj9+/cPiFnKHJ22MkCR4cd1ZwqFwAfCeRhMaDsCzv84jzHnmY7QV1BWgWr78uXLdS5B37593SPBw+jVJn2TXPO8CK9xkxAOPL0khzhmmL5pgRKWYEC76FS0Ey8v82gcQWgdfk8g282cGmdUoMZ92s35uOak1nK9sebw0XhZyIH20U7aiyZHKXHNQ6HtmWG01XRMOlJGmV6m8HVAL5rqWcG1o82BFnAfnDMY5wUsJn+ma16EvuJTBsG6PiYwKuhknpFeiAlt8Q7MpTHXm1zRxFORB0vgMCroODKeeeYZHVaxeAesBO4NZqoXV5RZco9RQW/evLl07dpVz9ks3oGpFOmvixcttvvihSlGBZ1dVPFiHj582D1i8QJMpVibT/42ef+W8MOooK9Zs0ZmzJgRcit/wh0cpL4U2qxWbllCF6OCTiyVyihWa3gLIhGsJsM7HmrRCIt/+C3oKj1FTh2Lk907tsvOXbt08saunTv1/weP+beGmbXOzAGt1vAWeN2vvvpqiYqKsl73MMV/ja5SJf74IVm/dJ5MG/+hvPfeezJi9Bj5YcXPcvD4GfdNWcNCBooPslrM4h3Q4vfee69069bNbmkdpvgv6BGFpEyFilI6Il7WfTde/v3hKJm+aJNElK4iVSv6l49OCIe0VnKeLd4BC4t0TIofns1FAQuLd/Fb0CMKFJayFSKldp26UrFsGSlT7TLp2ucJuS+6g9Ss4N9aaEx3yiNlVWbIYh7yuqk0O3nKFF073mIW33oG1oFQEpsc+0ClIvu4JGecSk2QXTE7ZPXivVK1UhnpEtVIMl7lnTEUahwzZozWHBbvQMeqVKmSFIiIkBSbtWgcrj8lvCiz9v777+tFV+yeE0hhvyRBT044IusP7ZaFielSrlxFaVL30gr982OI11KAz+It6Gyhns8dqpCwRNQDqEj83HPP6fqKWFe8FgiBvwRBV3Lq8D45tmerFCjVRMrWuUtqlvd/oQKNJYxDCCfQZokldxQuUljfG7S6P8447l8wzEvT0H4v/AYWzlAfYcCAAXoPPDYTeeWVV/TfW7dt1YNAbq+334KuVLLE7oqRXZvWSfWGlaRz9BVS9hJGf0Ymllvi+CGebvEOxYoWk+HDh+siHKzTp1P51u/7NAoPjnOMx4mTJ84f5+F7Pw/use84n+eYb206xy48Dw9fJ774PBd+t+88PHhPRu/n4TsX78/oXLTNd4zXL2yr7zjzZd95eN13Ho5f+Bsu/m7feS5sK5/hHLz/4t9w4XdwDChV9frrr8uQIUN0bfw/PfQn+eqrr3Q2KZ/h/TnB78IT6clxMuPfw+SfLw2TAp16yz/+PUaua+J/zJWv4Yfx8Gn2rAh04QmLf9Dp2HNs0qRJumrvtddeK3/96191rJ3Mxn/84x86HIcWwoHHOnZKTr/11lu6Sg2d+Q9/+IPceOONeoo2ZcoUXTOfdent2rWTxx9/XDucBg0apPsC7/l45MfSvFlzPS9Fk1FOGS1GBaA777xTTyeYv06fPl0rC9aH//3vf9fC8cILL5yfCnK+N998UxfmYK7Ldko4GlEsd9xxh/Tr10//NkLD/E7WmN9w4w1yz9336O2teA/HqOjD7+nYsaPMmjXrvKCx8jI6OlovzMJxNnr0aJ02jDCfOXtGt69K5Sr6N1CznmvBbx06dKhu89ixY/U1RGAbN2msqwUViCigt3gaP368lhHONXDgQF0LcO4Pc+XZZ57Vc3bay33IaWEQvzV60olYWR+7V35Ki5TyVaKkYc1L25+Lm0XpHNJf7cIJ77J9+3a9R93UqVP15hD8jbY/FX9KCyCCwvyRUl9PPvmkjqIgJKxh4Div+/YpYxcZNlnkNf5mzzg6MkKDILCjC+ccO2bs+bJKzFERUF5j3zY+Q8ESFt1wjHPxHqrWJJ1L0gMC38mDtviiOuvWrTs/YCAYVLdhXTmKgyKYmMpMVdb/vF5HgxjUCPuywQjFPXgNZUQBToSUB6su+RyDHqv8+JvjzZo1kw7tO0iJ4r9En9jxBiHmdQaLKpFVpHSZ0vpcDEIUEOH1ShUr6XPxOpqc4xQqpZoNypB8E0qF8TeDWkSBCP3ICX5r9H2rv5I3HZNi9IrCcs+Al+SdQT2k1K++FLMFky5ZypYp6Vyk344hjGzsBsLI2qtXL/doxliNnjfQoXybT9I10HB0SjopwrVw4cLzTjtKT9Gp0VAIIKnNVGXh/XRWtCkDBxqfSrPMPZte0VRrWN6PEGIdIEC++8zg4tPQdH7frj47du7QbWIXNDo/tfTE6X5xh+O0lqTdzZo3k1o1a+lSVfwGvh9tSZt81W14H4Ltsy6B6QqDAwqI7/L9boRQa2unnWhUjnNuzsVzjnM+4HNYN/zP+flu3s+DQYFBhvNzrYDfzYBFZunvf//7898N/I8VNGrUKH3tyFi85ZZbpHWb1tpioF2Xin+Crs7Ksk/fldeHvC2bK1wjT/x9qPype/1fmQPpqclyfOuXcuPLxeXzD3pKzUolfmMuvPPOO/oG33///dosywor6HkHndc3H0Sr0bH4H8GgcwOdkeO+yjF0bDr/he/n85yH86GV6Nw8OA8CxPs5jjnu6+Qcx+QFX3UX4Ni55HNa0DnGa8B3YPJzTs7D+TiXT6BoB8cywtf1fd9tmotrxvE7sIYw8VnpSSYpAo6lwcDpK9yZk/b6ZbqnnT3qzBN2y5bdJ6VW1bLSolHVX31QpaXI2SOb5V+PviqtO1eVkkULMdj+Bt8F942kFm+CoDKnRnMhPAgLcP982pHXEVpfx+N9F7+f45yL42hT3g8+4fYdv7DjIsCcm4dPyIG/S5b45bhPyIHPcg7Oxff6zuUbVDITcuC9F353XsEgxpbSDz/8sK7uS1jtoYce0mE2LF+mHvxGfktO2+uHoKdL3M5NsnbLVtmTVNaR6nKSlHBU4pzGxMUdkj1bN8iCbz+X5x56Qsb8VFp6d68nJYtnLOjMWbp06RKQKqMWS7jgG3DQ2Kw3wNmHM5NpEWZ/VoOVv2RjuqfIjiWTZcK4CTLh2xWy8+BZqVqrvjRt3lDKFXdGZ0czpySdluNHDknMuq1SstfLsmDCX6V2maJSMIORh5pxmGbMmxiZs8Ka7pZwx2e6s6CIktv4IDDR6fOBtjayEfRUObR5qSxfs0n2HM06Pz2iYCGpdGVPuaVDfSlWyDGh3OMXQmYcczmcH1bQLfkdk3Xd/fa6BwJiqvyw6667LttN6qygW8KdsN3AgRg6sdBQ3IfcYglljAo6nlYegZx7WCyW7DEq6MzNyVCy5YosFrMYFXRyne+66y6d6mexWMxhVNCrVa+m0ybtbiAWi1mMCjrZP/Pmz7POOIvFMEYFfdHCRTJm9Bi9IslisZjDqKD78pgvzGG2WCzBx6igk5vDSibf6iSLxWIGo4JOtRIqZOi1xHlAukqX+fPn62olrJM2mBSYY2gj7T6bdFaGDRsmk6dMloTTCSHTdgZ2ikx8+umnurBEKLQbaCfbh02YMEFPNVFOodL2jDCaAstN5+sw3X1LGTMj0CmwI0aMkO9nfy+7du7ShQHw/FMd5Pbbb9dr4y9c+ugVWM7LQgdKC5FoRLlsCkBQeIHVTZQ+ioyMDMjqpkDjq1RDoQoKVrCgicITVE0Z9NQgaRfVzn2n96CQxWuvvaZLR1E9h+tNxRkKRFDaiqIUgcBkCiyCZ4yYmBi1bNkyFRcX5x7JnEGDBvn1vuxIS09TI0eOVI4VoUqXLq0KFy6snEFG/1+yZEnVsWNHNWbMGHUq/pT7CW/gaBC1ceNGdfPNNyunY+m2RkRE6HY7g5KqVauWGjJkiNqzZ49+r5c4ffq0GjVqlL7mJUqU0G12BiNVpEgR/Zxr7mhJ993ewhE+1blzZ1WqVCndXtpN+4sVK6aaNm2q3njjDeUIv/vu3IEsOBaD+yy4GBX0jz76SD3yyCNq7ty57pHMCZSgT5k6RbVr1045GhHL5TePcuXKqejoaDV16lT3E95g/fr1yrE2VIUKFbSAX9xujjVs2FA5lopytKX7qbzn7NmzytGGqlGjRplecwSoS5cu+v46Vov7ybwlLS1NOaa6HoQYSDNqNwLfsmVL9cEHHyjHSnE/mXNMCrpRm48yRFTY9JUjMkHMphht/lKmJyOoX0Z8n+KFVDH1CtQQo7ghxQ6d++Qe/R8co94YlUdpf2a/zzTcW2q+UQAyszYxhaPNK1asyPC35QW0AzOdEk7UTMgIylOxMIsimFR3DSWMCTo3lwfr0fnfFHxXVl5+5sGsk6eYIJ3TS9D5siq7Rc01OiYdNLPOaRrahA8muxAqA8KXX37pqbJi/gyWDMCUX2YQDiWMCToOI8rkUBgSJ5iXbjCDARVMvaIVLwUEHKEJtZAlgxjX2ysa3V/otwh7qG1CYkzQGeGpmY2wU8LXS+BFpT5XzZo13SOhAzXFG17WUHvlQwmKHVI/0IsRg6ygrlvjxo31dQ8ljF5liuxTZYa5sKkbTHiOGnWZhfM4TlF9BqBatWq5R/MeOhShqKxMYEKEHTt21IMUguMFChcurOubZ1UqjHvPfWnTto2nahNwDQlfZhX6paotioprHkoYFXQSJ3AeEWM1RadOnaRPnz76Bl48uPhKETe6vJEukp9dbN8kFAkkbosgZzQosqafut9olgrlf9k4wAsgLCREUYs8owGW38JvY7kyA6tX2k07aA9llmvUqJFhX2AQQyk0b97cMwOrvxR82cH9O+iwTQ6OL7a8YTePrGDLH4Q0uyKS2UGnYvTFCcj8ihvKTUSjULeuc+fO0r17d/1d2TmQTMLvplOh1YlUkNBDog/JG2gU9gCjzT169NBJM16Ba0uBEYScgZQH153/mbpR8pskJXYO5R54SdDZSRYhZqOItNQ0PR3CB8L1pYYCgy5K4/rrrw9I8RTfNlRXXnmleyR4GM2M++ijj3TWEdlFCFdWBDozjswstvvh+xlsuHkdOnSQFi1aeLriDQMUEQEGyXnz5mnhZ4549dVX69/gpcHpQhBupmiE0bjuhAm7du2qM8woQOLVdkNKaoos/HGhDqWRvUZVJLaNYhDAMgzU4BS2VWDpqIxi7du31573rAhWFVg87L4QEKZYqMBtovY3JiNa0yua0B8YrIhB+7P3utfgmmONBCNFOmyrwLKo5e6779ZVZvIKbhomWSgJOSDYvs36QknIAcdiKAo50G4vroO4VIwKOqYcyQbErC0WizmMCvrIkSPlscce01vCWiwWcxgVdJxHeMG97IixWMIRo4IOBn1/FovFxbhGJ2YYiqmmFksoY1TQSfL485//HHLpgxZLqGNU0H1me6iFhyyWUMeooE+cOFEGDx4sS5cudY9YLBYTGBV0soyoPmLj6BaLWYwKOhlpPEwtUbVYLL9gVOJY0VSvXj29uslisZjDqKCzTvnWW2/VK7AsFos5jAo6BfxZ14tmt1gs5jAq6HjbqfxJ+WWLxWIOo4K+YMECGTdunGzcuNE9YrFYTGBM0Cn2QLVVCgfaRS0Wi1mMCTp1x1nEj8edCilequtusYQ7xgSdKh3UinvkkUd0DS40vMViMYPROXpqWqpUiayiBT3USjlZLKGMUUEfN3acPPvMs7oonsViMYdRQUeLY7Kb3E3VYrEYFnSLxZI3GBV0tDnllkNtOxuLJdQxKuhsZ/PSSy/pXS8sFos5jAo6Oe7sJWY1usViFqOCzk6q77zzjt6Py2KxmMOooLPv2oYNG3SVGYvFYg6jgu7bHNCmv1osZjEq6EAsPRw2rbNYQgmjgt66dWu56aab8nQ3VYslP2JU0AmrRfeOltq1a7tHLBaLCYwKOo44dlI9GHvQPWKxWExgVNDnzZsno0eNlk0bN7lHzEFW3tmzZ2XXrl2ybt06vVd7UlKS55fLsrtNcnKyroW/cOFCXYYrPj5er+/3+oaVtDExMVG2bdumFzKdOHFCX/NQgL5y7NgxWbZsmb7mrM/g94QqBV92cP8OOqtXr5aDBw9K06ZNpVGjRu7RjJkzZ4506tRJSpYs6R7JOXj5sSbWrFmja9bx2L9/vxYgKFOmjI4IeA3affLkSZk/f77OPXjxxRflyJEjWnhSUlJ0IQ+cm17c4grB2LRpkxaUKVOm6F16cMLSfmr7c829CINnbGysLF68WLf97bff1uHgc8nnzhdPIY07EBBuPn78uN54NOg4P8wY//73v1Xfvn3VrFmz3COZM2jQIBUXF+c+yznOzVExMTHq5ptvVrVq1VKlSpVShQoVUs4AomrXrq0GDBigHCFSjqZxP+ENUtNS1eG4w2rUqFGqRIkSqlq1aqhv5QiIqlGjhurevbtyBizlaB3lWCXup/IeZ3BSzuCkfvzxR9WnTx9Vrlw5/XCEXFWqVEnVqVNHPf/888oRJvcT3sJRAOr//u//dF+pXLmybjft5+8777xTzZ07VyUkJLjvzh3OQKImTJjgPgsuRgWdH+VoJbVq1Sr3SOYEStD37turunbtqhwtogXl4kdkZKTq37+/FnYvcez4MfXhRx+qYsWKZdhuHo4mUDNmzFCOhnc/lfekpKYoR4NrIWcgzajd5cuXV4MHD1bnzp3TA4MXoB0M9k888YSqUqWKcqyk37QbJXHTTTep2bNnB2RwNSnoRufobN4wcNBAada8mXsk+IwdM1a2bt2a6dzw6NGj4ozSMnPmTG0Oe4WYTTEy9K2hWbaJ34Xfg2kIZr4XYH89HK7ffvut7N271z36a5irjx49Wpv2Th90j+YtXD/a88UXX4ijYDJs1+nTp7WvgWrGzN9DCaOCTq77v979l2zcYK7cM4LCfDGzDoUzjrkSN9BLZajxGTjaPEtnIYOXMw3SHY+5nhdITUnVfoPs5rEIzTfffOOpLEkcntkVRTl8+LAexLjuoYRRQcepwaiJs8NLcHO5gXhaQw088BBqG1fiCHXm8e6z0MKZcoRM9MCH0d6BlvJih/RpoFC7eYAHG6vFS9MOf+Cakyl5qaSnJsvpk4dl565dsntPrCScSZT9zt9x8cmSlm5mGkAf9mKUJiuMSh3zGsIrJmPXCEB2g0uNGjWkR48eEhUV5R7Je9B4zHezgt9Fu6+99lrP7FBLm5LOJWmtlxWlSpWS3r17X8LAnyYnYjfLuH+9IFE9bpHH3hwuw1+7WVo0v1Ku6dZN/rv9mCSn5U7QGewZgLKCECFh3+joaPdIaGBU0Pv27StDhgyRDh06uEeCz4033ajjlGi+jCAuSntuuOEGTxXEqFWrltxxxx16EMqMSpUqSc/reuq1A17Z/YbdeHr16qXTnTNrE8LCPWnevLmfOQBpcnj7chn33isy8pu1ckf/F2XooEek7/1PSNuTx2XPqWZStWJJKZiL3kw7Lr/8cmnZsqX2jWQG7e7Zs6dUqVLFPRIaGBV09ka/6qqrjGqfFle1kNdff13v4upLMAFuZvXq1aVZs2Zak7OVs5cST2jbn/70J3niiSd0m2k70EYGJNrNAqEmjZtk2TFNg3C3bdNWbrnlFi3IJDyhKdHc/F+uXDk9qL766qvnf1N2nDqwSaZ9Pl5GzT8g9Xr2k4du6ypN6tWUqlVrS0nn2kS26yp1KxR1BD3n94/rStveeOMNHR2iGhLt5bjv+tOH+F0dO3YMOdM9ghib+3fQwTtMZly7du2yXcH21FNPydNPPy2VK1d2j+QcMpoI+WyK2SSrV62W9evXS4sWLaRLly5aY9IWNKj/ZqQZaDcOzO+//17///nnn0tkZKR0795dWrRsIbVr1dZbUQciezCQMF3CuUk235YtW/S1JxR47733SmTVSIlqG6WFxh8rJD35uPz309Ey5M2JEt+wh7wydLD0aFRR1LkE2b56hkRfP0DavfSljHi8s5QsUkhyO1T7wmxLliyR3bt36/BlM2fAatWqldR1rjVZnfSZQFhQRHpID8bSDTZGBX348OE6DfXuu++Wbs68KisCKehA54tPiJeDBw7qTkjtOoQEbZjdvCwvoeMRFSD0QxovmqV+/fp6s0ra7SUr5GJwbuJnYH0B/hkG1xIlS0jZMmXdd2TPsZ2L5YM335Dx80/ITQOelxf795JyhZWcPrpbZg7/mzz45o8ybNZ6ebB9DSlSKHADNanHXPMdO3bovlKtWrXz1kmgMCnoRlUYDibip3kRxkIoKlaoqM1JHFiYvhea8l4FKwPHFVqEuS9mIx3PZ1Z6GQZRBmqmRtdff70WlksRclGpcnjLz7ItZoNUqF9DOl99pZQpHCFp5xJl79aV8sGkpVKwdGtp2ahyrsz2jMCMRxGgkLA+fKZ8qGJU0BFwHgaNCEuIgPbfvn27XrDzP9Il5dw5SUlKluIli0vZcqUlIi1ZjuyKkS//M1oW70yVRh2jpaockLVb4iQ5xb9oDv2P/AOmcGTv5Yf+aFTQ0aJoU0ZKU6QkHpIVS5bJ8mXLZdmyxbJm4zaJPXRQYlYvlE9Gj5AJX0yXLfuPO13KYhoEjAcpvFOnTpVRo0ZpH855wXMslgjHHI8oFCEJ8Ymy3xHKLWuXyNejRsqcFRucebJIZJVE+fidt2RLXKKk+hlH5/x79+2VESNGyMcff6yX/2JphrPAG12mSmUZ5mmYntk5vgK1TDU1Yb/8MGu6TP36W5k77wdZvjZGtsb8JHO/mSpjxoyXH1bsklJVLpMWzetJ0QCbf5bMwfeA9l65cqVeZ4CwEU3AzMdM/mVaouTMsb2y8ad1snFLrDNvPiL7tmyQk/FpUumqWrJ86XopoApLkhSTO++6TaqVLeaXCY9AHz9xXFasWKF9Rvg+8OGUKl1KypQuo/umiWmRyWWqRgUdM4kRmzhqdjHrQAl6gYJFpEDiFnlvxKeyaOlqp9Oskl37YuXY0cNy4vhRORhXUMpHXibde7WR0o7msAQXhAyh8nm00eSY0V27dpUHHnhA+yL+pwQKSMnylaVooZKSdPKUJCQlStmajaTP4wOlU5Masj/2tNSuEyUvDnlFrqxeSgr5GUhHiCuUr3A+Zk5bSMc9euSo9qazVp4+GuwoTNgK+uTJk+W7777TyQbZme+BEvSIQkWlbJFEmTjlezl4+LhIoUpy2wMPS98b20rF4hFSoEwDaXf1NdK5fSMpbjV60EDA8cCjPX/66Sf5dua38sPcH3QBEvIFGjRsIMnnkrW3G02Pk5RYdXxiihSvECltru4sXXv0kuu6d5FalcpISnpx6dC+rXS+ppWUiTjrCKczf3cE+MjRIzr7EgHCa845ChcprE1zVqXh/ec7GGwIVTZu3FhbECghNDzFUWgrAwBO0GBGNsJG0Bkpuah4K7lgxCYJJ3BzL7vsMn0juMBcyIsz1wJZYSbpxHYZO2mmxDqCXiiyp9z/x35y7z03Sruoa6XHdV2lS+crpVKJ0PWohgKY6pTwevLJJ2Xs2LGybes2nQ/wwgsvSLny5eSjjz7S5vuqVau0U47pHVl2LCGeMvVLWffzeuczW0Slp2mNO+nzz2XxkqWydvVKWb5iuc5uLFqkqEyeMlnmzpmrQ1ecCyHG279m9RqZNm2arhzDcQSemHjC6QQ9daAP0tf4HN9J3kLNmjV11CBYkRmTgh5U24Sb99Zbb2nvJiMoOe6+PHe875RIeu655/TFN0X5+rWlYpXyUrRwSalau6E0bXKZRJYr4Yzi6ZKeliqpqWm6yoAlsCDoaFVWLhJmRbti3aEIks4myYrlK3RyDTH3tWvX6joBJAwh9DzneExMjFYUnAfNy2vUc1u0cJGcSTzzy2DizOd5H8eZ/+Po4zzUCMSS4Div0yc5zudQQMzVOSc5FuTpI/D0S9bOhwWOmRI0HEFX7dq106V5HO2u3n77bXXfffcpR1sr58KqBx98UF1zzTXKmau5n/gfgaowA/G7ZqvWV16G/KrKnR5XE+ZtUynua5CenqaSEuPV4QP71N79sepY/Fnljbon4YUzuCtHmNTjjz+uHG2qoqKi1NChQ5UjvMoRXuMlsfg+ykJt3LhRvfLKK8qZs+vqMtHR0Wr8+PHK0bjKUVDuuwNP2FSYuf322/VSRJwuzH8cwZb3339fJ60wijKqYnKZXORSuIiSgoUI67gHHNLPHZeNq5bLJ+Nmy+btq+W90QslydCSx/wE814cYCxsougivho23ezfv79O80V7opWDjdPvtWWJ1fD111/r7x82bJiekzsCLyNHjpR77rlHrzcIRKqrFwiqoLN4hXRXLiDCjvnE3+RAf/XVVzqNk8GADhBM+JE+d0r8sbOSeDr1V+b5iT0b5WjsOql/023Stn4DiUr+XP67+8LEDUug8M2FWQHmaDM9R8d8Z+6O8BOVMQFTAcfS1GnWTAWeeeYZvZYAxyBz+lBbtJIdwY0fOLRt21aHTjZv3iyOySZ/+ctfxDGLtGeUddQmHBHHnflgilva+fSWJbJtw3o5fPJ/abinnb8TjpySsqUKSKEiRaVM1eqSeC50a3iHAgg8zrZ+/frJhIkT5Lbbb9Nz6rgjGddrCySc/9DhX6od/eEPf9ADDqsE8cIHy8Oe1wRd0PG4s+yPMAajKHXjcHLwnMX7wc4fPrNnvtw94DXZtH3/LwfObZPhrz4q7344Unae+KU4QsEiEVKkmHMp0iP0jY6IKCDpVs6Dyi/X2bnuzv1v2KChvPTiS/LJJ59Is6bBLxzK97KUdtKkSVqTEwXyxc2toOcQLhxLQFnUQOzclzBD6AxhD/aFLVatjYz+ZKqsWfuT9gmsX79WlixaIE/26yM1Sv8SNinpaJZSlavKqdOUZFJyJl5JRfc1S/BhHswiEubsCH6w+wTnpw+iwbEqwmUenhVBF3QgDonDjQoemE3kvHft1lVf7GBToEhpZ8RurL/zwkeNSDKufvn5Zao1kMpVG8mxRd/Jmq1b5GDlLtK6mneKOVgsucWIoAOOtz59+ui5ELXCMNe8YiYVKlZe6jVuKV27R0mDBk2k6zVtpGzR8HLGWPI3RgtPkAJJSAMvO57NrMD7+bvf/c7oHl0kzaSlKceUs0JuCT4k/xBOfOyxx9wjwcOooF8KFMnHtA+3MIfF4oMMPFJ0Ka0WbDwr6BQisEUqLOEMSgzr1oSvyrOCbrFYAocxZ5zFYsk7rKBbLPkAK+gWSz7ACrrFkg+wgm6x5AOsoFss+QAr6BZLPsAKusWSD7CCbrHkA6ygWyz5ACvoFks+wAq6xZIPsIJuseQDrKBbLGGPyP8D3glIHovIQycAAAAASUVORK5CYII=)\n",
        "\n",
        "\n",
        "\n",
        "\n",
        "\n"
      ],
      "metadata": {
        "id": "ueyIgrsljMg7"
      }
    },
    {
      "cell_type": "markdown",
      "source": [
        "* L ➡ longitud de la caja de simulación\n",
        "* M ➡ celdas unitarias en cada dimensión (número de celdas unitarias = M$^3$)\n",
        "* N ➡ número total de partículas: $N=M^3$\n",
        "* ρ ➡ densidad: $ρ = N/L^3$\n",
        "* a ➡ espaciamiento de la red: $a=L/M$\n",
        "\n"
      ],
      "metadata": {
        "id": "TVUFrQSClfMa"
      }
    },
    {
      "cell_type": "code",
      "source": [
        "N=125\n",
        "rho=0.8\n",
        "M=int(np.rint(N**(1/3)))\n",
        "L=(N/rho)**(1/3)\n",
        "a=L/M"
      ],
      "metadata": {
        "id": "7FfDcPzNnHfQ"
      },
      "execution_count": null,
      "outputs": []
    },
    {
      "cell_type": "markdown",
      "source": [
        "\n",
        "##2. **Ubicación de posiciones iniciales en los nodos de una red cúbica simple**\n"
      ],
      "metadata": {
        "id": "4rxTIQY3qx8g"
      }
    },
    {
      "cell_type": "code",
      "source": [
        "file=open('coordinates.xyz','w') #file to save xyz coordinates"
      ],
      "metadata": {
        "id": "ZRChGsr4rD54"
      },
      "execution_count": null,
      "outputs": []
    },
    {
      "cell_type": "code",
      "source": [
        "#Initial Positions\n",
        "def init_pos(U_cells, lattice):\n",
        "    pos = []\n",
        "    for x in range(U_cells):\n",
        "        for y in range(U_cells):\n",
        "            for z in range(U_cells):\n",
        "                pos.append([x,y,z])\n",
        "    pos = np.array(pos)*lattice\n",
        "    return pos"
      ],
      "metadata": {
        "id": "0nYAbiOwrzyy"
      },
      "execution_count": null,
      "outputs": []
    },
    {
      "cell_type": "code",
      "source": [
        "r = init_pos(M, a)"
      ],
      "metadata": {
        "id": "t8tvhbGKr6wJ"
      },
      "execution_count": null,
      "outputs": []
    },
    {
      "cell_type": "code",
      "source": [
        "#xyz file\n",
        "file.write('%i'%N+'\\n\\n')\n",
        "for i in range(int(len(r))):\n",
        "    file.write('A'+'%14.8f'%r[i,0]+' '+'%14.8f'%r[i,1]+' '+'%14.8f'%r[i,2]+'\\n')\n",
        "file.close()"
      ],
      "metadata": {
        "id": "ptFS-pmHsB7w"
      },
      "execution_count": null,
      "outputs": []
    },
    {
      "cell_type": "markdown",
      "source": [
        "##3. **Condiciones de borde**\n",
        "<img src=\"https://isaacs.sourceforge.io/phys/images/these-seb/pbc-seb.png\" width=\"200\"/>\n",
        "\n",
        "1. Los átomos que abandonan la región de simulación en un límite vuelven a entrar en la región por la cara opuesta.\n",
        "2. Los átomos interactúan con átomos reales y de imagen.\n"
      ],
      "metadata": {
        "id": "HyFOAOrxyb2d"
      }
    },
    {
      "cell_type": "code",
      "source": [
        "#pbc code\n",
        "def pbc(x, L_box):\n",
        "    x=x-np.rint(x/L_box)*L_box\n",
        "    return x"
      ],
      "metadata": {
        "id": "ADrcSEaCDdH2"
      },
      "execution_count": null,
      "outputs": []
    },
    {
      "cell_type": "markdown",
      "source": [
        "##4. **Potenciales de interacción**\n",
        "####**Expansión de interacciones a dos potenciales corporales (Sistemas atómicos)**\n",
        "\n",
        "1. Potencial de esfera dura\n",
        "2. Potencial de pozo cuadrado\n",
        "3. Potencial de esfera blanda\n",
        "4. Potencial de Buckingham\n",
        "5. **Potencial de Lennard-Jones**\n",
        "\n",
        "####**Cálculo de la energía potencial de Lennard-Jones**\n",
        "\n",
        "<img src=\"https://onlinelibrary.wiley.com/cms/asset/b8781787-6e51-4af1-8ff1-cd7bd395ac05/jcc26368-fig-0001-m.jpg\" width=\"260\"/>\n",
        "\n",
        "* **Truncado de interacciones:** es conveniente truncar los potenciales por pares para reducir el costo computacional del cálculo de la interacción (corte).\n",
        "\n",
        "   $u^{cut-shift}(r)=\\left\\{\\begin{matrix}u^{LJ}(r)-u^{LJ}(r_c), \\quad if \\quad r\\leq r_c\\\\ 0 \\hspace{51mm} r > r_c \\end{matrix}\\right.$\n",
        "\n",
        "\n",
        "\n"
      ],
      "metadata": {
        "id": "s9XqFdmRrVmE"
      }
    },
    {
      "cell_type": "code",
      "source": [
        "#Forces and potential energy\n",
        "def force_LJ(r, L_box):\n",
        "    F = np.zeros((N,3))\n",
        "    cutoff2 = cutoff*cutoff\n",
        "    Upot = 0.0\n",
        "    for i in range(N):\n",
        "        for j in range(i+1, N):\n",
        "            rij = pbc(r[i]-r[j], L_box)\n",
        "            d2 = rij[0]*rij[0] + rij[1]*rij[1] + rij[2]*rij[2]\n",
        "            d4 = d2*d2; d6 = d4*d2; d8 = d6*d2; d12 = d6*d6; d14 = d8*d6\n",
        "            if d2<cutoff2:\n",
        "                F[i] = F[i] + (48 / d14 - 24 /d8)*rij\n",
        "                F[j] = F[j] - (48 / d14 - 24 /d8)*rij\n",
        "                cf4 = cutoff2**2; cf6 = cutoff2*cf4; cf12 = cf6*cf6\n",
        "                Upot = Upot + 4.*( 1./ d12 - 1./d6) - 4.*( 1./ cf12 - 1./cf6)\n",
        "    return np.array(F), Upot"
      ],
      "metadata": {
        "id": "gfuasiVFYJSp"
      },
      "execution_count": null,
      "outputs": []
    },
    {
      "cell_type": "markdown",
      "source": [
        "##5. **Ecuaciones de movimiento**\n",
        "En física, las ecuaciones de movimiento son ecuaciones que describen el comportamiento de un sistema físico en términos de su movimiento en función del tiempo.\n",
        "\n",
        "####**¿Cómo solucionarlos?**\n",
        "* Discretización de ecuaciones de movimiento.\n",
        "* Integradores:\n",
        "     * Algoritmo de Euler\n",
        "     * Algoritmo de salto de rana\n",
        "     * Algoritmo de Verlet\n",
        "     * **Algoritmo de velocidad Verlet**\n",
        "\n",
        "####**Resolución de las ecuaciones de movimiento: algoritmo Velocity Verlet**\n",
        "\n",
        "  <img src=\"https://raw.githubusercontent.com/MargotPC/System-of-particles-MD/main/velocity-verlet.png\" ancho=\"260\"/>\n"
      ],
      "metadata": {
        "id": "jTuZ9jqGaPJn"
      }
    },
    {
      "cell_type": "markdown",
      "source": [
        "Primero debemos definir las velocidades iniciales:"
      ],
      "metadata": {
        "id": "HlNPN8w4glz0"
      }
    },
    {
      "cell_type": "code",
      "source": [
        "kBT = 1.5 #temperature in kB(boltzman constant)\n",
        "mass=1 #hidrogen 1u\n",
        "#Initial velocities\n",
        "vel = np.random.normal(loc=0, scale=np.sqrt(kBT/mass), size=(N,3)) #Maxwell-Boltzmann distribution"
      ],
      "metadata": {
        "id": "OUZLQ014gkbF"
      },
      "execution_count": null,
      "outputs": []
    },
    {
      "cell_type": "markdown",
      "source": [
        "Ahora podemos implementar la función del algoritmo Verlet de velocidad:\n",
        "\n"
      ],
      "metadata": {
        "id": "DD-vFZN_gwR4"
      }
    },
    {
      "cell_type": "code",
      "source": [
        "# Velocity verlet algorithm\n",
        "def time_step_vVerlet(r, vel,F):\n",
        "    r = pbc(r, L) + vel * dt + 0.5 * F * dt * dt\n",
        "    vel = vel + F*0.5*dt\n",
        "    F,pot = force_LJ(r, L)\n",
        "    vel = vel + F*0.5*dt\n",
        "    return r, vel, F, pot"
      ],
      "metadata": {
        "id": "4zxcJkUogQay"
      },
      "execution_count": null,
      "outputs": []
    },
    {
      "cell_type": "markdown",
      "source": [
        "##6. **Ejecución de simulación para conjunto microcanónico (NVE)**\n",
        "\n",
        "\n",
        "\n"
      ],
      "metadata": {
        "id": "m9a8gv3GiNIA"
      }
    },
    {
      "cell_type": "code",
      "source": [
        "file2=open('trajectory.xyz','w') #file to save the trajectory"
      ],
      "metadata": {
        "id": "N7lZwOx9jtqr"
      },
      "execution_count": null,
      "outputs": []
    },
    {
      "cell_type": "code",
      "source": [
        "dt=0.001\n",
        "steps=5000\n",
        "Nsave=50\n",
        "time=0.0\n",
        "cutoff=2.0\n",
        "traject=[] #empty array to save positions xyz of the system\n",
        "\n",
        "F,pot = force_LJ(r, L)\n",
        "\n",
        "for t in range(steps+Nsave):\n",
        "    time = time + dt\n",
        "    r, vel, F, pot = time_step_vVerlet(r, vel, F)\n",
        "    traject.append(r)\n",
        "    if t%Nsave==0:\n",
        "        print('timestep = ', t, ', ULJ = ', pot)"
      ],
      "metadata": {
        "colab": {
          "base_uri": "https://localhost:8080/"
        },
        "id": "dg1E7AaNYJ7E",
        "outputId": "0cb8d986-2bed-4b82-c82a-dfa3994ce109"
      },
      "execution_count": null,
      "outputs": [
        {
          "output_type": "stream",
          "name": "stdout",
          "text": [
            "timestep =  0 , ULJ =  -512.6472239049408\n",
            "timestep =  50 , ULJ =  -395.24450625657266\n",
            "timestep =  100 , ULJ =  -404.0808840897476\n",
            "timestep =  150 , ULJ =  -438.8501853811203\n",
            "timestep =  200 , ULJ =  -464.0636291307341\n",
            "timestep =  250 , ULJ =  -491.7962156494547\n",
            "timestep =  300 , ULJ =  -505.20194002894783\n",
            "timestep =  350 , ULJ =  -479.6107612106829\n",
            "timestep =  400 , ULJ =  -484.5844249836452\n",
            "timestep =  450 , ULJ =  -471.2152104662285\n",
            "timestep =  500 , ULJ =  -456.69238298052653\n",
            "timestep =  550 , ULJ =  -473.977949243455\n",
            "timestep =  600 , ULJ =  -478.3682635028493\n",
            "timestep =  650 , ULJ =  -467.2409492298863\n",
            "timestep =  700 , ULJ =  -482.0181606253284\n",
            "timestep =  750 , ULJ =  -481.22932951589326\n",
            "timestep =  800 , ULJ =  -463.96865201784556\n",
            "timestep =  850 , ULJ =  -458.18105885520646\n",
            "timestep =  900 , ULJ =  -463.6018515927682\n",
            "timestep =  950 , ULJ =  -481.2524534953623\n",
            "timestep =  1000 , ULJ =  -472.4762636827323\n",
            "timestep =  1050 , ULJ =  -480.3709576866312\n",
            "timestep =  1100 , ULJ =  -473.42456789222746\n",
            "timestep =  1150 , ULJ =  -470.521801077433\n",
            "timestep =  1200 , ULJ =  -471.9739200198895\n",
            "timestep =  1250 , ULJ =  -469.68164432783647\n",
            "timestep =  1300 , ULJ =  -484.1545363088309\n",
            "timestep =  1350 , ULJ =  -458.31768854650227\n",
            "timestep =  1400 , ULJ =  -470.46433383172445\n",
            "timestep =  1450 , ULJ =  -462.47800184949887\n",
            "timestep =  1500 , ULJ =  -474.4468118093458\n",
            "timestep =  1550 , ULJ =  -456.27547348107095\n",
            "timestep =  1600 , ULJ =  -477.58715619920673\n",
            "timestep =  1650 , ULJ =  -461.7261865816392\n",
            "timestep =  1700 , ULJ =  -480.3353827770778\n",
            "timestep =  1750 , ULJ =  -476.55842252473235\n",
            "timestep =  1800 , ULJ =  -465.4356540860714\n",
            "timestep =  1850 , ULJ =  -475.59745283365555\n",
            "timestep =  1900 , ULJ =  -463.4780807914536\n",
            "timestep =  1950 , ULJ =  -470.4105619358746\n",
            "timestep =  2000 , ULJ =  -477.23093998805547\n",
            "timestep =  2050 , ULJ =  -460.801397285089\n",
            "timestep =  2100 , ULJ =  -476.6730054014776\n",
            "timestep =  2150 , ULJ =  -460.51746810740417\n",
            "timestep =  2200 , ULJ =  -479.4860208127348\n",
            "timestep =  2250 , ULJ =  -479.02692499273013\n",
            "timestep =  2300 , ULJ =  -462.05931572175734\n",
            "timestep =  2350 , ULJ =  -465.13480134846697\n",
            "timestep =  2400 , ULJ =  -456.08353796118524\n",
            "timestep =  2450 , ULJ =  -460.5960508402097\n",
            "timestep =  2500 , ULJ =  -479.76125263432897\n",
            "timestep =  2550 , ULJ =  -470.3942560802173\n",
            "timestep =  2600 , ULJ =  -472.89094800787825\n",
            "timestep =  2650 , ULJ =  -479.2969180098975\n",
            "timestep =  2700 , ULJ =  -464.8210415907848\n",
            "timestep =  2750 , ULJ =  -466.5325387613491\n",
            "timestep =  2800 , ULJ =  -449.5291904481059\n",
            "timestep =  2850 , ULJ =  -445.9596198273781\n",
            "timestep =  2900 , ULJ =  -454.9065906004375\n",
            "timestep =  2950 , ULJ =  -463.33380805778745\n",
            "timestep =  3000 , ULJ =  -471.97606017486993\n",
            "timestep =  3050 , ULJ =  -482.7517869461654\n",
            "timestep =  3100 , ULJ =  -472.81202945204507\n",
            "timestep =  3150 , ULJ =  -441.4689563894444\n",
            "timestep =  3200 , ULJ =  -467.84814957610064\n",
            "timestep =  3250 , ULJ =  -442.1778343926977\n",
            "timestep =  3300 , ULJ =  -460.5044353955268\n",
            "timestep =  3350 , ULJ =  -466.7879563699096\n",
            "timestep =  3400 , ULJ =  -466.96264717703536\n",
            "timestep =  3450 , ULJ =  -470.5583523124772\n",
            "timestep =  3500 , ULJ =  -477.5687039969455\n",
            "timestep =  3550 , ULJ =  -461.6969999689173\n",
            "timestep =  3600 , ULJ =  -478.62343581449977\n",
            "timestep =  3650 , ULJ =  -466.06290587609993\n",
            "timestep =  3700 , ULJ =  -462.0357608553513\n",
            "timestep =  3750 , ULJ =  -461.54784656772546\n",
            "timestep =  3800 , ULJ =  -473.44132426535856\n",
            "timestep =  3850 , ULJ =  -467.74751831684955\n",
            "timestep =  3900 , ULJ =  -469.24669996332455\n",
            "timestep =  3950 , ULJ =  -468.759067755324\n",
            "timestep =  4000 , ULJ =  -466.8191782341129\n",
            "timestep =  4050 , ULJ =  -469.3996990190935\n",
            "timestep =  4100 , ULJ =  -460.0496263415307\n",
            "timestep =  4150 , ULJ =  -456.6118664001729\n",
            "timestep =  4200 , ULJ =  -472.83019754838483\n",
            "timestep =  4250 , ULJ =  -455.5001164928543\n",
            "timestep =  4300 , ULJ =  -476.37230703447074\n",
            "timestep =  4350 , ULJ =  -458.9488293560446\n",
            "timestep =  4400 , ULJ =  -461.89257151868924\n",
            "timestep =  4450 , ULJ =  -464.5290515441493\n",
            "timestep =  4500 , ULJ =  -473.12653723497993\n",
            "timestep =  4550 , ULJ =  -464.4174552771536\n",
            "timestep =  4600 , ULJ =  -465.23136277986544\n",
            "timestep =  4650 , ULJ =  -480.9583860390431\n",
            "timestep =  4700 , ULJ =  -462.959882949495\n",
            "timestep =  4750 , ULJ =  -457.8217204131218\n",
            "timestep =  4800 , ULJ =  -447.4214848232552\n",
            "timestep =  4850 , ULJ =  -461.2355583122625\n",
            "timestep =  4900 , ULJ =  -470.91126872620293\n",
            "timestep =  4950 , ULJ =  -473.78121140080987\n",
            "timestep =  5000 , ULJ =  -473.81254676804974\n"
          ]
        }
      ]
    },
    {
      "cell_type": "code",
      "source": [
        "#Creating the xyz trajectory file\n",
        "data = np.array(traject)\n",
        "for i in range(0,int(len(data)),Nsave):\n",
        "    file2.write('%i'%len(data[i])+'\\n\\n')\n",
        "    for j in range(int(len(data[i]))):\n",
        "        file2.write('A'+'%14.8f'%data[i,j,0]+' '+'%14.8f'%data[i,j,1]+' '+'%14.8f'%data[i,j,2]+'\\n')\n",
        "file2.close()"
      ],
      "metadata": {
        "id": "cKdqf7jyjrD6"
      },
      "execution_count": null,
      "outputs": []
    }
  ]
}
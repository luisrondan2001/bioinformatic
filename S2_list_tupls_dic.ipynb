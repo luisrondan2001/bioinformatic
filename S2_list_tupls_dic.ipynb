{
  "cells": [
    {
      "cell_type": "markdown",
      "metadata": {
        "id": "view-in-github",
        "colab_type": "text"
      },
      "source": [
        "<a href=\"https://colab.research.google.com/github/luisrondan2001/bioinformatic/blob/main/S2_list_tupls_dic.ipynb\" target=\"_parent\"><img src=\"https://colab.research.google.com/assets/colab-badge.svg\" alt=\"Open In Colab\"/></a>"
      ]
    },
    {
      "cell_type": "markdown",
      "source": [
        "#Listas\n",
        "###Grupos de valores únicos,\n",
        "###Modificable, se puede agregar y eliminar elementos.\n",
        "###Tiene un orden, es indexable."
      ],
      "metadata": {
        "id": "Q70YewQpp5O5"
      },
      "id": "Q70YewQpp5O5"
    },
    {
      "cell_type": "code",
      "execution_count": null,
      "id": "2160af48",
      "metadata": {
        "id": "2160af48",
        "outputId": "5708e152-4fac-4b16-a095-46bfc5356149"
      },
      "outputs": [
        {
          "name": "stdout",
          "output_type": "stream",
          "text": [
            "[1, 'CGTAGCATCGTAC', True, [True, False, True]]\n"
          ]
        },
        {
          "data": {
            "text/plain": [
              "'cgtagc'"
            ]
          },
          "execution_count": 13,
          "metadata": {},
          "output_type": "execute_result"
        }
      ],
      "source": [
        "\n",
        "Lista1 = [123, 45, 78, 7, 56, 45, 23]#Lista de números\n",
        "Lista2 = [\"hola\", \"ACGATCGATCGATC\", \"Python\"]#lista de cadenas\n",
        "Lista3 = [True, False, True]#lista de booleanos\n",
        "Lista4 = [1, \"CGTAGCATCGTAC\", True, Lista3] #lista con valores mistox y una lista dentro\n",
        "\n",
        "Lista1\n",
        "print(Lista4)\n"
      ]
    },
    {
      "cell_type": "markdown",
      "source": [
        "#INDEX\n",
        "\n",
        "###A---B---C----D---E----F---G---H\n",
        "###1→2→3→4→5→6→7→8\n",
        "###...←-6←-5←-4←-3←-2←-1\n",
        "####Los conjutnos de datos, exceptuando los diccionarios , presentan un index, valores que representan de la ubicación del elemento. Este index parte desde 0 , pero su  inverso desde -1 .\n",
        " #El index nos permite llamar a un objeto  por su porsion. \n",
        "\n"
      ],
      "metadata": {
        "id": "x_2o9LYCsDIM"
      },
      "id": "x_2o9LYCsDIM"
    },
    {
      "cell_type": "code",
      "execution_count": null,
      "id": "25cf9b97",
      "metadata": {
        "id": "25cf9b97",
        "outputId": "9dff41df-e8f9-426e-8cbc-a4723c8cf54c"
      },
      "outputs": [
        {
          "name": "stdout",
          "output_type": "stream",
          "text": [
            "78\n",
            "56\n",
            "[78, 7, 56, 45]\n",
            "[78, 7, 56, 45, 23]\n",
            "[123, 45, 78, 7, 56, 45]\n",
            "[123, 45, 78, 7, 56, 45, 23]\n"
          ]
        }
      ],
      "source": [
        "print(Lista1[2]) #extraemos el dato de lindex 2 (3ra posición)\n",
        "print(Lista1[-3])\n",
        "print(Lista1[2:6])\n",
        "print(Lista1[2:])\n",
        "print(Lista1[:6])\n",
        "\n",
        "print(Lista1[:])"
      ]
    },
    {
      "cell_type": "code",
      "execution_count": null,
      "id": "1d22bb79",
      "metadata": {
        "id": "1d22bb79",
        "outputId": "228b7c5d-092d-40dc-e1ec-afd142ec15c1"
      },
      "outputs": [
        {
          "name": "stdout",
          "output_type": "stream",
          "text": [
            "[3, 6, 9, 12, 15]\n",
            "[16, 15, 14, 13, 12, 11, 10, 9, 8, 7, 6, 5, 4, 3, 2, 1]\n"
          ]
        }
      ],
      "source": [
        "num = [1, 2, 3, 4, 5, 6, 7, 8, 9, 10, 11, 12, 13, 14, 15, 16]\n",
        "\n",
        "print(num[2:15:3])\n",
        "print(num[::-1])#nos devuelve la lista en orden inverso "
      ]
    },
    {
      "cell_type": "code",
      "execution_count": null,
      "id": "0b1529ba",
      "metadata": {
        "id": "0b1529ba",
        "outputId": "24e05d58-0245-4ad1-f271-749d2f0b3d3f"
      },
      "outputs": [
        {
          "data": {
            "text/plain": [
              "'CGATCGATGCTAGCTAGC'"
            ]
          },
          "execution_count": 21,
          "metadata": {},
          "output_type": "execute_result"
        }
      ],
      "source": [
        "ADN = \"CGATCGATCGTAGCTAGC\"\n",
        "ADN[1]\n",
        "ADN[2:7]\n",
        "ADN[1:16:3]\n",
        "ADN[::-1]"
      ]
    },
    {
      "cell_type": "code",
      "execution_count": null,
      "id": "08c042b6",
      "metadata": {
        "scrolled": true,
        "id": "08c042b6",
        "outputId": "0163ba1b-81be-4875-a0e7-0f59abf0c05a"
      },
      "outputs": [
        {
          "name": "stdout",
          "output_type": "stream",
          "text": [
            "[[123, 45, 78, 7, 56, 45, 23], ['hola', 'ACGATCGATCGATC', 'Python'], [True, False, True], [1, 'CGTAGCATCGTAC', True, [True, False, True]]]\n",
            "['hola', 'ACGATCGATCGATC', 'Python']\n",
            "Python\n",
            "False\n",
            "True\n"
          ]
        }
      ],
      "source": [
        "Lista5 = [Lista1, Lista2, Lista3, Lista4]\n",
        "print(Lista5)\n",
        "\n",
        "print(Lista5[1])\n",
        "print(Lista5[1][2])\n",
        "print(Lista5[3][3][1])\n",
        "\n",
        "sublista1 = Lista5[3]\n",
        "sublista2 = sublista1[3]\n",
        "print(sublista2[0])\n"
      ]
    },
    {
      "cell_type": "code",
      "execution_count": null,
      "id": "a1680096",
      "metadata": {
        "id": "a1680096",
        "outputId": "e14c429b-0ce6-4fa8-94f5-a4fd0b0614eb"
      },
      "outputs": [
        {
          "name": "stdout",
          "output_type": "stream",
          "text": [
            "[123, 'Python', 'CGATCGATCGA', 58.2, True]\n",
            "[123, 'Python', 'CGATCGATCGA', False, True]\n",
            "[123, 'Python', 'CGATCGATCGA', False, True, 'MWTGYASTCGT']\n",
            "[123, 'Python', 'CGATCGATCGA', 'En el index 3', False, True, 'MWTGYASTCGT']\n"
          ]
        }
      ],
      "source": [
        "Lista= [123, \"Python\", \"CGATCGATCGA\", 58.2, True]\n",
        "print(Lista)\n",
        "\n",
        "Lista[3] = False\n",
        "print(Lista)\n",
        "\n",
        "Lista.append(\"MWTGYASTCGT\") #el motodo append() sirve para agregar datos a una lista, se agrega en el index final.\n",
        "print(Lista)\n",
        "\n",
        "Lista.insert(3, \"En el index 3\")  #usamos 3 como argumento para insertar  datos en el index 3\n",
        "print(Lista)"
      ]
    },
    {
      "cell_type": "code",
      "execution_count": null,
      "id": "a0b2220a",
      "metadata": {
        "id": "a0b2220a",
        "outputId": "ce452ce0-7819-4746-b025-408551fe07b1"
      },
      "outputs": [
        {
          "name": "stdout",
          "output_type": "stream",
          "text": [
            "[1, 3, 2, 4, 5, 6, 7, 9, 8, 10]\n",
            "[1, 3, 2, 4, 5, 6, 7, 9, 8, 10]\n"
          ]
        }
      ],
      "source": [
        "Lista1 = [1, 3, 2, 4, 5]\n",
        "Lista2 = [6, 7, 9, 8, 10]\n",
        "\n",
        "Lista3 = Lista1 + Lista2\n",
        "print(Lista3)\n",
        "\n",
        "Lista1.extend(Lista2)\n",
        "print(Lista1)"
      ]
    },
    {
      "cell_type": "code",
      "execution_count": null,
      "id": "8d357ea9",
      "metadata": {
        "id": "8d357ea9",
        "outputId": "59c4d680-d42b-4e7d-aba5-aa712f9dd36e"
      },
      "outputs": [
        {
          "name": "stdout",
          "output_type": "stream",
          "text": [
            "1\n"
          ]
        }
      ],
      "source": [
        "print(Lista.index(\"Python\"))#con el metodo index podemos sabere el index de una dato. "
      ]
    },
    {
      "cell_type": "code",
      "execution_count": null,
      "id": "3afaa5b8",
      "metadata": {
        "id": "3afaa5b8",
        "outputId": "c9dc0952-be82-42a0-d262-59f02cef1731"
      },
      "outputs": [
        {
          "name": "stdout",
          "output_type": "stream",
          "text": [
            "[1, 5, 76, 'CGATCGATCGATCGA', 'ATCGACTAGCTAGC', True, False]\n",
            "[1, 5, 76, 'ATCGACTAGCTAGC', True, False]\n",
            "[1, 5, 76, 'ATCGACTAGCTAGC', False]\n",
            "[1, 5, 76, 'ATCGACTAGCTAGC']\n"
          ]
        }
      ],
      "source": [
        "lista = [1, 5, 76, \"CGATCGATCGATCGA\", \"ATCGACTAGCTAGC\", True, False]\n",
        "\n",
        "print(lista)\n",
        "lista.remove(\"CGATCGATCGATCGA\") #podemos remover datos. \n",
        "print(lista)\n",
        "lista.pop(4) #eliminamos datos usando el INDEX\n",
        "print(lista)\n",
        "lista.pop()\n",
        "print(lista)"
      ]
    },
    {
      "cell_type": "code",
      "execution_count": null,
      "id": "2c20226a",
      "metadata": {
        "id": "2c20226a",
        "outputId": "189a657c-2860-4495-a830-43a49359b6d1"
      },
      "outputs": [
        {
          "name": "stdout",
          "output_type": "stream",
          "text": [
            "(4578, 8761, 'CGTACGATCGTACGTACG')\n",
            "[4578, 8761, 'CGTACGATCGTACGTACG']\n",
            "(4578, 8761, 'CGTACGATCGTACGTACG')\n"
          ]
        }
      ],
      "source": [
        "# Tuplas \n",
        "tupla = (4578, 8761, \"CGTACGATCGTACGTACG\")\n",
        "print(tupla)\n",
        "\n",
        "tupla[1]\n",
        "\n",
        "lista = list(tupla) # Convertimos una  tupla en lista.\n",
        "print(lista)\n",
        "\n",
        "tupla = tuple(lista) #convertimos una lista en tupla\n",
        "print(tupla)"
      ]
    },
    {
      "cell_type": "code",
      "execution_count": null,
      "id": "fac028e0",
      "metadata": {
        "id": "fac028e0",
        "outputId": "11425a5b-2675-498d-c431-6603731a4bbf"
      },
      "outputs": [
        {
          "name": "stdout",
          "output_type": "stream",
          "text": [
            "C-G-A-T-C-G-A-T-C-G-A-T-C-G-A-T-C-G-A-T-C-G-A-T-C-G-A-T-C-G-A-T-C\n",
            "CGATCGATCGATCGATCGATCGATCGATCGATC\n",
            "C python G python A python T python C python G python A python T python C python G python A python T python C python G python A python T python C python G python A python T python C python G python A python T python C python G python A python T python C python G python A python T python C\n"
          ]
        },
        {
          "data": {
            "text/plain": [
              "'CGATCGATCGATCGATCGATCGATCGATCGATC'"
            ]
          },
          "execution_count": 72,
          "metadata": {},
          "output_type": "execute_result"
        }
      ],
      "source": [
        "# .join()\n",
        "\n",
        "print(\"-\".join(ADN))\n",
        "print(\"\".join(ADN))\n",
        "print(\" python \".join(ADN)) \n",
        "#Join formará una cadena de caracteres, con los elementos de una lista. se guardarán en la cadena, \n",
        "#separados por el caracter que especifiquemos\n",
        "A = \"\"\n",
        "A.join(ADN)"
      ]
    },
    {
      "cell_type": "code",
      "execution_count": null,
      "id": "37098b11",
      "metadata": {
        "id": "37098b11",
        "outputId": "2105f7de-6906-4f4b-a2f7-ebafcc039e3a"
      },
      "outputs": [
        {
          "name": "stdout",
          "output_type": "stream",
          "text": [
            "Hola\n",
            "B\n",
            "{'A': 'CGTACGTACGTACG', 'B': 54, 4: 'C', 76.2: False, ('Insulin', 'Homo sapiens'): ['A', 'B']}\n",
            "{'A': 'CGTACGTACGTACG', 'B': 54, 4: 'C', 76.2: False, ('Insulin', 'Homo sapiens'): ['A', 'B'], 'C': True}\n",
            "None\n",
            "False\n",
            "25\n",
            "1\n"
          ]
        }
      ],
      "source": [
        "# DICCIONARIOS\n",
        "#sintaxis → nombre del diccinoario = {LLAVE: VALOR}\n",
        "Diccionario = {\"A\": \"Hola\", \"B\":54, 4:\"C\", 76.2:False, (\"Insulin\", \"Homo sapiens\"):[\"A\", \"B\"]} \n",
        "#Sona datos en pares,  cada llave debe tener min un valor\n",
        "print(Diccionario[\"A\"])\n",
        "print(Diccionario[(\"Insulin\", \"Homo sapiens\")][1])\n",
        "\n",
        "\n",
        "Diccionario[\"A\"] = \"CGTACGTACGTACG\" #Podemos cambiar cambiar un  valor de esta forma \n",
        "print(Diccionario)\n",
        "Diccionario[\"C\"] = True\n",
        "print(Diccionario)\n",
        "\n",
        "print(Diccionario.get(\"D\"))\n",
        "print(bool(Diccionario.get(\"D\"))) # podemos  verificar si un llave se encuentra en nuestro diccionario\n",
        "\n",
        "print(12 + 13)\n",
        "A = 1\n",
        "print(A)"
      ]
    },
    {
      "cell_type": "code",
      "execution_count": null,
      "id": "d0e0c23b",
      "metadata": {
        "id": "d0e0c23b",
        "outputId": "94781bbf-92e1-4de7-d35e-69fc2608f7d9"
      },
      "outputs": [
        {
          "data": {
            "text/plain": [
              "['CGTACGTACGTACG', 54, 'C', False, ['A', 'B'], True]"
            ]
          },
          "execution_count": 89,
          "metadata": {},
          "output_type": "execute_result"
        }
      ],
      "source": [
        "list(Diccionario.keys())#listamos las llaves\n",
        "list(Diccionario.values())#lisamos los valores"
      ]
    },
    {
      "cell_type": "code",
      "execution_count": null,
      "id": "a2ae2db4",
      "metadata": {
        "id": "a2ae2db4",
        "outputId": "d61a63c2-9397-4f6b-aa8a-ddc22878992e"
      },
      "outputs": [
        {
          "name": "stdout",
          "output_type": "stream",
          "text": [
            "4\n"
          ]
        }
      ],
      "source": [
        "lista1 = list(Diccionario.keys()) # A, \"B\"\n",
        "lista2 = list(Diccionario.values()) # CGATC.., 54\n",
        "\n",
        "position = lista2.index(\"C\")\n",
        "print(lista1[position])"
      ]
    },
    {
      "cell_type": "code",
      "execution_count": null,
      "id": "f29243eb",
      "metadata": {
        "id": "f29243eb",
        "outputId": "d2d39499-bd0d-4950-ec30-a386c2ea4b04"
      },
      "outputs": [
        {
          "name": "stdout",
          "output_type": "stream",
          "text": [
            "[5, 9, 10, 8]\n",
            "[5, 9, 10, 8]\n"
          ]
        }
      ],
      "source": [
        "# Ejercicio 1\n",
        "# Crear una lista con número del 1 al 10\n",
        "# Extraer los elementos 4, 8, -1, -3\n",
        "# Guardar esos elementos en otra lista\n",
        "\n",
        "\n",
        "Lista = [1, 2, 3, 4, 5, 6, 7, 8, 9, 10]\n",
        "\n",
        "# Forma 1\n",
        "A = Lista[4]\n",
        "B = Lista[8]\n",
        "C = Lista[-1]\n",
        "D = Lista[-3]\n",
        "\n",
        "lista2 = [A, B, C, D]\n",
        "print(lista2)\n",
        "\n",
        "# Forma 2\n",
        "lista2 = [Lista[4], Lista[8], Lista[-1], Lista[-3]]\n",
        "print(lista2)"
      ]
    },
    {
      "cell_type": "code",
      "execution_count": null,
      "id": "a09201b5",
      "metadata": {
        "id": "a09201b5",
        "outputId": "c8cf5d0b-5163-46ac-e4b8-80918160c095"
      },
      "outputs": [
        {
          "name": "stdout",
          "output_type": "stream",
          "text": [
            "Ingrese una secuencia: CGTACGATCGATCG\n",
            "Ingrese el nombre del gen: primer1\n",
            "Ingrese el nombre del organismo: Homo sapiens\n"
          ]
        }
      ],
      "source": [
        "# Ejercicio 2\n",
        "# Crear un script que pida a un usuario que escriba una secuencia de ADN, el nombre de la secuencia\n",
        "# y el organismo del cual se obtuvo. Almacenar. Luego le preguntaremos que desea obtener\n",
        "# secuencia (S), nombre del gen (G), organismo (O), temperatura de melting (TM)\n",
        "# Cuando el usuaario ingrese una letra, el programa le devuelve lo que pidio\n",
        "\n",
        "seq = input(\"Ingrese una secuencia: \")\n",
        "gene = input(\"Ingrese el nombre del gen: \")\n",
        "organism = input(\"Ingrese el nombre del organismo: \")\n",
        "\n",
        "seq = seq.upper().replace(\" \", \"\")\n",
        "\n",
        "GC = seq.count(\"G\") + seq.count(\"C\")\n",
        "AT = seq.count(\"A\") + seq.count(\"T\")\n",
        "Tm = 4*GC + 2*AT\n",
        "\n",
        "Diccionario = {\"S\": seq, \"G\":gene, \"O\": organism, \"TM\": Tm}\n"
      ]
    },
    {
      "cell_type": "code",
      "execution_count": null,
      "id": "159131fd",
      "metadata": {
        "id": "159131fd",
        "outputId": "17f311c0-52ea-45aa-faed-d866a6d262d8"
      },
      "outputs": [
        {
          "name": "stdout",
          "output_type": "stream",
          "text": [
            "Ingrese lo que desea obtener \n",
            "(secuencia (S), nombre del gen (G), \n",
            " organismo (O), temperatura de melting (TM)): TM\n",
            "44\n"
          ]
        }
      ],
      "source": [
        "busqueda = input(\"Ingrese lo que desea obtener \\n(secuencia (S), nombre del gen (G), \\n organismo (O), temperatura de melting (TM)): \")\n",
        "\n",
        "print(Diccionario.get(busqueda))"
      ]
    },
    {
      "cell_type": "code",
      "execution_count": null,
      "id": "8c916359",
      "metadata": {
        "id": "8c916359"
      },
      "outputs": [],
      "source": [
        ""
      ]
    },
    {
      "cell_type": "code",
      "execution_count": null,
      "id": "82186ef1",
      "metadata": {
        "id": "82186ef1"
      },
      "outputs": [],
      "source": [
        ""
      ]
    }
  ],
  "metadata": {
    "kernelspec": {
      "display_name": "Python 3 (ipykernel)",
      "language": "python",
      "name": "python3"
    },
    "language_info": {
      "codemirror_mode": {
        "name": "ipython",
        "version": 3
      },
      "file_extension": ".py",
      "mimetype": "text/x-python",
      "name": "python",
      "nbconvert_exporter": "python",
      "pygments_lexer": "ipython3",
      "version": "3.8.8"
    },
    "colab": {
      "name": "S2_list_tupls_dic.ipynb",
      "provenance": [],
      "include_colab_link": true
    }
  },
  "nbformat": 4,
  "nbformat_minor": 5
}
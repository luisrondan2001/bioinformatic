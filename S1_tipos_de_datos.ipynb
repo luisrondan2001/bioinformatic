{
  "cells": [
    {
      "cell_type": "markdown",
      "metadata": {
        "id": "view-in-github",
        "colab_type": "text"
      },
      "source": [
        "<a href=\"https://colab.research.google.com/github/luisrondan2001/bioinformatic/blob/main/S1_tipos_de_datos.ipynb\" target=\"_parent\"><img src=\"https://colab.research.google.com/assets/colab-badge.svg\" alt=\"Open In Colab\"/></a>"
      ]
    },
    {
      "cell_type": "code",
      "execution_count": null,
      "id": "6329a4be",
      "metadata": {
        "id": "6329a4be"
      },
      "outputs": [],
      "source": [
        "# así se hace un comentario de una linea\n",
        "# comienza con un \"#\"\n",
        "# Se usa para documenrtar tu código\n",
        "\n",
        "\"\"\"\n",
        "Los comentarios largos de varias lineas se hacen con  3 comillas\n",
        "los comentarios sirven para puedas describir tu codigo  y  luego  tu u \n",
        "otra persona pueda  entenderlo usarlo .\n",
        "\"\"\"\n"
      ]
    },
    {
      "cell_type": "markdown",
      "source": [
        "#variables"
      ],
      "metadata": {
        "id": "pXMK-7RDiQs7"
      },
      "id": "pXMK-7RDiQs7"
    },
    {
      "cell_type": "code",
      "execution_count": null,
      "id": "ba5d43a0",
      "metadata": {
        "scrolled": true,
        "id": "ba5d43a0",
        "outputId": "147200ac-60da-4839-b69e-e239a85ba74d"
      },
      "outputs": [
        {
          "name": "stdout",
          "output_type": "stream",
          "text": [
            "123\n"
          ]
        }
      ],
      "source": [
        "#Una variable es un nombre que se refiere a un objeto\n",
        "var1 = 123 \n",
        "var1\n",
        "\n",
        "print(var1)\n",
        "#El objeto puede ser de alguno de los tipo\n",
        "var2 = \"hola\"\n",
        "var3 = \"CGATCGATCGATCGATCGTACGTAGC\"#cadenas de caracteres (str)\n",
        "var4 = 0.123 # número entero\n",
        "var5 = True #tipo booleano\n",
        "var6 = False\n",
        "var7 = \"\"#variable vacia\n",
        "\n"
      ]
    },
    {
      "cell_type": "code",
      "execution_count": null,
      "id": "0109edc4",
      "metadata": {
        "id": "0109edc4",
        "outputId": "5c651321-7437-460c-97e1-56fc4e8992b9"
      },
      "outputs": [
        {
          "data": {
            "text/plain": [
              "str"
            ]
          },
          "execution_count": 10,
          "metadata": {},
          "output_type": "execute_result"
        }
      ],
      "source": [
        "#podemos verificar el tipo de  dato que almacena una variable con la función TYPE()\n",
        "type(var2)\n",
        "type(var5)\n",
        "type(var7)"
      ]
    },
    {
      "cell_type": "code",
      "execution_count": null,
      "id": "b72dfa5d",
      "metadata": {
        "id": "b72dfa5d",
        "outputId": "07ec5ad7-5f70-4519-c8f4-0cba110b45be"
      },
      "outputs": [
        {
          "name": "stdout",
          "output_type": "stream",
          "text": [
            "135\n"
          ]
        }
      ],
      "source": [
        "#convertimos una variable  de tipo  cadena a tipo entero (número entero) y le sumamos 12\n",
        "var = \"123\"\n",
        "print(int(var) + 12)"
      ]
    },
    {
      "cell_type": "code",
      "execution_count": null,
      "id": "bb87e4b4",
      "metadata": {
        "id": "bb87e4b4",
        "outputId": "263e5d18-ad35-4d3e-8480-dc25139e9f54"
      },
      "outputs": [
        {
          "name": "stdout",
          "output_type": "stream",
          "text": [
            "12a\n"
          ]
        }
      ],
      "source": [
        "#concatenamos dos tipos de datos 12 + a\n",
        "print(str(12) + \"a\")"
      ]
    },
    {
      "cell_type": "code",
      "execution_count": null,
      "id": "d4a9aa67",
      "metadata": {
        "id": "d4a9aa67",
        "outputId": "aefd3f75-2bbe-40a2-c570-df7e2ee7a00c"
      },
      "outputs": [
        {
          "data": {
            "text/plain": [
              "26"
            ]
          },
          "execution_count": 27,
          "metadata": {},
          "output_type": "execute_result"
        }
      ],
      "source": [
        "#la funcion LEN() sirve para contar los caracteres de una cadena\n",
        "len(var3)"
      ]
    },
    {
      "cell_type": "code",
      "execution_count": null,
      "id": "1b1d2a1c",
      "metadata": {
        "id": "1b1d2a1c",
        "outputId": "2dcdd1d1-1754-402d-c08e-e8e7c1dd8dd5"
      },
      "outputs": [
        {
          "name": "stdout",
          "output_type": "stream",
          "text": [
            "Ingrese una secuencia de ADNCTCGATCGATCGAGC\n",
            "CTCGATCGATCGAGC\n"
          ]
        }
      ],
      "source": [
        "#la funcion INPUT permite obtener el texto escrito por el usuario.\n",
        "ADN = input(\"Ingrese una secuencia de ADN\")\n",
        "print(ADN)"
      ]
    },
    {
      "cell_type": "markdown",
      "source": [
        "#Metodos\n",
        "\n",
        "###Un método es una función que pertenece a un objeto ,  una variable, sirven para modificar los datos de una varible o  conocer caracteristicas de los datos  almacenados "
      ],
      "metadata": {
        "id": "BPxFmwt6mfaS"
      },
      "id": "BPxFmwt6mfaS"
    },
    {
      "cell_type": "code",
      "execution_count": null,
      "id": "3e6a50b8",
      "metadata": {
        "id": "3e6a50b8",
        "outputId": "722f90f8-6321-46ce-ae7d-f7f284867185"
      },
      "outputs": [
        {
          "name": "stdout",
          "output_type": "stream",
          "text": [
            "Ingrese una secuencia de ADNCGTAGCTACGTCAg cagctagctacgatGCTA\n",
            "CGTAGCTACGTCAg cagctagctacgatGCTA\n",
            "CGTAGCTACGTCAG CAGCTAGCTACGATGCTA\n",
            "cgtagctacgtcag cagctagctacgatgcta\n",
            "CGTTGCTTCGTCTg cagctagctacgatGCTT\n",
            "CGTAGCTACGTCAgcagctagctacgatGCTA\n",
            "CGTAGCTACGTCAGCAGCTAGCTACGATGCTA\n"
          ]
        }
      ],
      "source": [
        "ADN = input(\"Ingrese una secuencia de ADN\")\n",
        "print(ADN)\n",
        "print(ADN.upper())#convierte la cadena en mayusculas\n",
        "print(ADN.lower())#convierte la cena en minusculas\n",
        "print(ADN.replace(\"A\", \"T\"))#reemplazamos  la letra A por T\n",
        "print(ADN.replace(\" \", \"\"))#reemplazamos la una espacio  por nada. \n",
        "print(ADN.replace(\" \", \"\").upper())#usamos 2 metosdos  en la misma lines"
      ]
    },
    {
      "cell_type": "code",
      "execution_count": 1,
      "id": "2299c1cb",
      "metadata": {
        "colab": {
          "base_uri": "https://localhost:8080/"
        },
        "id": "2299c1cb",
        "outputId": "eb59fe6f-0d3d-4879-f6b2-0d49a299d001"
      },
      "outputs": [
        {
          "output_type": "stream",
          "name": "stdout",
          "text": [
            "Ingrese una secuencia de ADNdfgbdfbdfb\n",
            "DFGBDFBDFB\n"
          ]
        }
      ],
      "source": [
        "#Usamos los metodos uppper y replace para limpiar una cadena de ADN \n",
        "ADN = input(\"Ingrese una secuencia de ADN\")\n",
        "ADN = ADN.upper().replace(\" \", \"\")\n",
        "print(ADN)"
      ]
    },
    {
      "cell_type": "code",
      "execution_count": null,
      "id": "74e7e487",
      "metadata": {
        "id": "74e7e487",
        "outputId": "a9cc7fd5-079c-4b22-c3aa-72f50928711c"
      },
      "outputs": [
        {
          "name": "stdout",
          "output_type": "stream",
          "text": [
            "4\n"
          ]
        }
      ],
      "source": [
        "#  el metodo COUNT() se utiliza para contar el número de veces que un elemento que aparece en la lista\n",
        "print(ADN.count(\"ATC\"))"
      ]
    },
    {
      "cell_type": "markdown",
      "source": [
        "#Operadores en python "
      ],
      "metadata": {
        "id": "GWzaDzCcn-vo"
      },
      "id": "GWzaDzCcn-vo"
    },
    {
      "cell_type": "code",
      "execution_count": null,
      "id": "9d1bb601",
      "metadata": {
        "id": "9d1bb601",
        "outputId": "99bdd832-df1a-4afa-812d-97101730d77d"
      },
      "outputs": [
        {
          "name": "stdout",
          "output_type": "stream",
          "text": [
            "146\n",
            "102\n",
            "2728\n",
            "5.636363636363637\n",
            "11357351671193289727579045126462565595140325376\n",
            "14\n"
          ]
        }
      ],
      "source": [
        "N1 = 124\n",
        "N2 = 22\n",
        "\n",
        "\n",
        "N3 = N1 + N2 #suma\n",
        "N4 = N1 - N2 #resta\n",
        "N5 = N1 * N2 #multiplicación\n",
        "N6 = N1 / N2 #division\n",
        "N7 = N1 ** N2 #potencxiación\n",
        "N8 = N1 % N2 #Módulo\n",
        "\n",
        "print(N3)\n",
        "print(N4)\n",
        "print(N5)\n",
        "print(N6)\n",
        "print(N7)\n",
        "print(N8)"
      ]
    },
    {
      "cell_type": "code",
      "execution_count": null,
      "id": "5a024642",
      "metadata": {
        "id": "5a024642",
        "outputId": "e4c3b42f-0043-4ca2-93a3-afe2db6b54b8"
      },
      "outputs": [
        {
          "name": "stdout",
          "output_type": "stream",
          "text": [
            "True\n",
            "False\n",
            "False\n",
            "True\n",
            "True\n",
            "False\n"
          ]
        }
      ],
      "source": [
        "#operadores logicos\n",
        "print(N1 > N2) #mayor que\n",
        "print(N1 < N2) #menor que \n",
        "print(N1 == N2) #igual\n",
        "print(N1 != N2) #diferente\n",
        "print(N1 >= N2) #mayor igual\n",
        "print(N1 <= N2) #menor igual\n"
      ]
    },
    {
      "cell_type": "code",
      "execution_count": null,
      "id": "10c508f5",
      "metadata": {
        "id": "10c508f5",
        "outputId": "a0750fda-491f-4e7f-8b2b-32f83ca0aab5"
      },
      "outputs": [
        {
          "name": "stdout",
          "output_type": "stream",
          "text": [
            "True\n",
            "True\n"
          ]
        }
      ],
      "source": [
        "\n",
        "print((N1 > N2) & (N1 != N2)) # & ← y\n",
        "print((N1 > N2) | (N1 == N2)) # | ← o \n"
      ]
    },
    {
      "cell_type": "code",
      "execution_count": null,
      "id": "fe321c2f",
      "metadata": {
        "id": "fe321c2f",
        "outputId": "419f078c-9c20-44e7-fde8-887431483437"
      },
      "outputs": [
        {
          "name": "stdout",
          "output_type": "stream",
          "text": [
            "Hay 6 Timinas\n",
            "%T: 20.0\n"
          ]
        }
      ],
      "source": [
        "DNA = \"CGTCGATCGATCGATCGATCGACGGCTACG\"\n",
        "\n",
        "Num_T = DNA.count(\"T\")\n",
        "\n",
        "print(\"Hay\", Num_T, \"Timinas\")\n",
        "\n",
        "Length = len(DNA)\n",
        "\n",
        "Percent_T = Num_T / Length * 100\n",
        "\n",
        "print(\"%T:\", Percent_T)\n"
      ]
    },
    {
      "cell_type": "code",
      "execution_count": null,
      "id": "a64e5bc8",
      "metadata": {
        "id": "a64e5bc8",
        "outputId": "0ba94586-8a86-4321-c84b-c1ced0b7710a"
      },
      "outputs": [
        {
          "name": "stdout",
          "output_type": "stream",
          "text": [
            "Ingrese una secuencia: CGATCGtagctagc acgatcgatcgTGCATGCTACGTAC\n",
            "La secuencia es CGATCGTAGCTAGCACGATCGATCGTGCATGCTACGTAC\n",
            "El tamaño de la secuencia es 39\n",
            "%A: 23.08\n",
            "%C: 28.21\n",
            "%G: 25.64\n",
            "%T: 23.08\n"
          ]
        }
      ],
      "source": [
        "# Ejercicio 1:\n",
        "# Script que me devuelva una secuencia (que se ingreso con anterioridad)\n",
        "# correctamente, longitud, porcentaje de cada base\n",
        "\n",
        "DNA = input(\"Ingrese una secuencia: \")\n",
        "DNA = DNA.upper().replace(\" \", \"\")\n",
        "\n",
        "lenseq = len(DNA)\n",
        "\n",
        "P_T = DNA.count(\"T\") / lenseq * 100\n",
        "P_A = DNA.count(\"A\") / lenseq * 100\n",
        "P_C = DNA.count(\"C\") / lenseq * 100\n",
        "P_G = DNA.count(\"G\") / lenseq * 100\n",
        "\n",
        "print(\"La secuencia es\", DNA)\n",
        "print(\"El tamaño de la secuencia es\", lenseq)\n",
        "print(\"%A:\", round(P_A, 2))\n",
        "print(\"%C:\", round(P_C, 2))\n",
        "print(\"%G:\", round(P_G, 2))\n",
        "print(\"%T:\", round(P_T, 2))\n"
      ]
    },
    {
      "cell_type": "code",
      "execution_count": null,
      "id": "39ff4764",
      "metadata": {
        "id": "39ff4764",
        "outputId": "1615d4d6-0e9b-4c0b-ab9a-20e30c131ebb"
      },
      "outputs": [
        {
          "name": "stdout",
          "output_type": "stream",
          "text": [
            "Ingrese una secuencia grande (100 pb): CGATGCATCGATCGATCGTAGCTACGCATAGCTAGCTACGCATCGATCGATGCATCGATCGATCGTAGCTACGCATAGCTAGCTACGCATCGATCGATGCATCGATCGATCGTAGCTACGCATAGCTAGCTACGCATCGATCGATGCATCGATCGATCGTAGCTACGCATAGCTAGCTACGCATCGATCGATGCATCGATCGATCGTAGCTACGCATAGCTAGCTACGCATCGATCGATGCATCGATCGATCGTAGCTACGCATAGCTAGCTACGCATCGAT\n",
            "Ingrese una secuencia pequeña (2-3 pb): GAT\n",
            "La secuencia grande es: CGATGCATCGATCGATCGTAGCTACGCATAGCTAGCTACGCATCGATCGATGCATCGATCGATCGTAGCTACGCATAGCTAGCTACGCATCGATCGATGCATCGATCGATCGTAGCTACGCATAGCTAGCTACGCATCGATCGATGCATCGATCGATCGTAGCTACGCATAGCTAGCTACGCATCGATCGATGCATCGATCGATCGTAGCTACGCATAGCTAGCTACGCATCGATCGATGCATCGATCGATCGTAGCTACGCATAGCTAGCTACGCATCGAT\n",
            "La secuencia pequeña es: GAT\n",
            "La secuencia pequeña se repite 24 veces en la secuencia grande\n"
          ]
        }
      ],
      "source": [
        "# Ejercicio 2\n",
        "# Un script que me pida una secuencia de gran tamaño\n",
        "# y otra más pequeña (SSR) y me diga cuantas veces aparece\n",
        "# Esta SSR en la secuencia grande\n",
        "\n",
        "\n",
        "DNA_B = input(\"Ingrese una secuencia grande (100 pb): \")\n",
        "DNA_S = input(\"Ingrese una secuencia pequeña (2-3 pb): \")\n",
        "\n",
        "DNA_B = DNA_B.upper().replace(\" \", \"\")\n",
        "DNA_S = DNA_S.upper().replace(\" \", \"\")\n",
        "\n",
        "\n",
        "Rep = DNA_B.count(DNA_S)\n",
        "\n",
        "print(\"La secuencia grande es:\", DNA_B)\n",
        "print(\"La secuencia pequeña es:\", DNA_S)\n",
        "print(\"La secuencia pequeña se repite\", Rep, \"veces en la secuencia grande\")\n",
        "\n"
      ]
    },
    {
      "cell_type": "code",
      "execution_count": null,
      "id": "f3ca8e53",
      "metadata": {
        "id": "f3ca8e53",
        "outputId": "3d95544c-dc92-4c55-c9c0-a3709247651a"
      },
      "outputs": [
        {
          "name": "stdout",
          "output_type": "stream",
          "text": [
            "Ingrese una secuencia: CGTAGCTAGCTAGCTAGCNGCTAGCTAGCYGCTGACW\n",
            "3\n"
          ]
        }
      ],
      "source": [
        "# Ejercicio 3\n",
        "# ¿Cuantas bases no son ni A, ni C, ni G, ni T?\n",
        "\n",
        "ADN = input(\"Ingrese una secuencia: \")\n",
        "ADN = ADN.upper().replace(\" \", \"\")\n",
        "\n",
        "Total_ACGT = ADN.count(\"A\") + ADN.count(\"C\") + ADN.count(\"G\") + ADN.count(\"T\")\n",
        "\n",
        "No_ACGT = len(ADN) - Total_ACGT\n",
        "\n",
        "print(No_ACGT)\n",
        "\n"
      ]
    },
    {
      "cell_type": "code",
      "execution_count": null,
      "id": "ac555c37",
      "metadata": {
        "id": "ac555c37",
        "outputId": "13bfd932-c10a-4bc8-9c21-e8640125145d"
      },
      "outputs": [
        {
          "name": "stdout",
          "output_type": "stream",
          "text": [
            "Ingrese una secuencia: GCTACGTAGCTACGTACG\n",
            "La Tm de esta secuencia es 56 °C\n"
          ]
        }
      ],
      "source": [
        "# Ejercicio 4\n",
        "# Calcular la Tm de un primer\n",
        "# Tm = 4 veces la cantidad de GC más 2 veces la cantidad de AT\n",
        "\n",
        "ADN = input(\"Ingrese una secuencia: \")\n",
        "ADN = ADN.upper().replace(\" \", \"\")\n",
        "\n",
        "NumAT = ADN.count(\"A\") + ADN.count(\"T\")\n",
        "NumGC = ADN.count(\"G\") + ADN.count(\"C\")\n",
        "\n",
        "Tm = 4 * NumGC + 2 * NumAT\n",
        "\n",
        "print(\"La Tm de esta secuencia es\", Tm, \"°C\")\n"
      ]
    }
  ],
  "metadata": {
    "kernelspec": {
      "display_name": "Python 3 (ipykernel)",
      "language": "python",
      "name": "python3"
    },
    "language_info": {
      "codemirror_mode": {
        "name": "ipython",
        "version": 3
      },
      "file_extension": ".py",
      "mimetype": "text/x-python",
      "name": "python",
      "nbconvert_exporter": "python",
      "pygments_lexer": "ipython3",
      "version": "3.8.8"
    },
    "colab": {
      "name": "S1_tipos_de_datos.ipynb",
      "provenance": [],
      "include_colab_link": true
    }
  },
  "nbformat": 4,
  "nbformat_minor": 5
}
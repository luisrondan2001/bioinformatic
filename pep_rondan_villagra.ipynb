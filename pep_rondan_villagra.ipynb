{
  "nbformat": 4,
  "nbformat_minor": 0,
  "metadata": {
    "colab": {
      "provenance": [],
      "authorship_tag": "ABX9TyMshrwbF1U2EGxvvZ/1OPpY",
      "include_colab_link": true
    },
    "kernelspec": {
      "name": "python3",
      "display_name": "Python 3"
    },
    "language_info": {
      "name": "python"
    }
  },
  "cells": [
    {
      "cell_type": "markdown",
      "metadata": {
        "id": "view-in-github",
        "colab_type": "text"
      },
      "source": [
        "<a href=\"https://colab.research.google.com/github/luisrondan2001/bioinformatic/blob/main/pep_rondan_villagra.ipynb\" target=\"_parent\"><img src=\"https://colab.research.google.com/assets/colab-badge.svg\" alt=\"Open In Colab\"/></a>"
      ]
    },
    {
      "cell_type": "markdown",
      "source": [
        "###PRIMERA PRUEBA DE PRACTICAS - BIOINFORMATICA\n",
        "\n",
        "Nombre: Rondan Villagra Luis Fernando \n",
        "\n",
        "Codigo: 2019801011"
      ],
      "metadata": {
        "id": "L7SzEp-rRsKi"
      }
    },
    {
      "cell_type": "code",
      "execution_count": null,
      "metadata": {
        "colab": {
          "base_uri": "https://localhost:8080/"
        },
        "id": "yuXVeQjxPwX0",
        "outputId": "2d839d23-c575-4cab-bcc6-6b71e4568b60"
      },
      "outputs": [
        {
          "output_type": "stream",
          "name": "stdout",
          "text": [
            "Looking in indexes: https://pypi.org/simple, https://us-python.pkg.dev/colab-wheels/public/simple/\n",
            "Collecting bio\n",
            "  Downloading bio-1.5.9-py3-none-any.whl (276 kB)\n",
            "\u001b[2K     \u001b[90m━━━━━━━━━━━━━━━━━━━━━━━━━━━━━━━━━━━━━━━\u001b[0m \u001b[32m276.4/276.4 kB\u001b[0m \u001b[31m5.9 MB/s\u001b[0m eta \u001b[36m0:00:00\u001b[0m\n",
            "\u001b[?25hCollecting mygene\n",
            "  Downloading mygene-3.2.2-py2.py3-none-any.whl (5.4 kB)\n",
            "Requirement already satisfied: pooch in /usr/local/lib/python3.9/dist-packages (from bio) (1.6.0)\n",
            "Collecting gprofiler-official\n",
            "  Downloading gprofiler_official-1.0.0-py3-none-any.whl (9.3 kB)\n",
            "Requirement already satisfied: biopython>=1.80 in /usr/local/lib/python3.9/dist-packages (from bio) (1.81)\n",
            "Requirement already satisfied: pandas in /usr/local/lib/python3.9/dist-packages (from bio) (1.5.3)\n",
            "Requirement already satisfied: requests in /usr/local/lib/python3.9/dist-packages (from bio) (2.27.1)\n",
            "Requirement already satisfied: tqdm in /usr/local/lib/python3.9/dist-packages (from bio) (4.65.0)\n",
            "Requirement already satisfied: numpy in /usr/local/lib/python3.9/dist-packages (from biopython>=1.80->bio) (1.22.4)\n",
            "Collecting biothings-client>=0.2.6\n",
            "  Downloading biothings_client-0.3.0-py2.py3-none-any.whl (29 kB)\n",
            "Requirement already satisfied: pytz>=2020.1 in /usr/local/lib/python3.9/dist-packages (from pandas->bio) (2022.7.1)\n",
            "Requirement already satisfied: python-dateutil>=2.8.1 in /usr/local/lib/python3.9/dist-packages (from pandas->bio) (2.8.2)\n",
            "Requirement already satisfied: appdirs>=1.3.0 in /usr/local/lib/python3.9/dist-packages (from pooch->bio) (1.4.4)\n",
            "Requirement already satisfied: packaging>=20.0 in /usr/local/lib/python3.9/dist-packages (from pooch->bio) (23.1)\n",
            "Requirement already satisfied: urllib3<1.27,>=1.21.1 in /usr/local/lib/python3.9/dist-packages (from requests->bio) (1.26.15)\n",
            "Requirement already satisfied: charset-normalizer~=2.0.0 in /usr/local/lib/python3.9/dist-packages (from requests->bio) (2.0.12)\n",
            "Requirement already satisfied: certifi>=2017.4.17 in /usr/local/lib/python3.9/dist-packages (from requests->bio) (2022.12.7)\n",
            "Requirement already satisfied: idna<4,>=2.5 in /usr/local/lib/python3.9/dist-packages (from requests->bio) (3.4)\n",
            "Requirement already satisfied: six>=1.5 in /usr/local/lib/python3.9/dist-packages (from python-dateutil>=2.8.1->pandas->bio) (1.16.0)\n",
            "Installing collected packages: gprofiler-official, biothings-client, mygene, bio\n",
            "Successfully installed bio-1.5.9 biothings-client-0.3.0 gprofiler-official-1.0.0 mygene-3.2.2\n"
          ]
        }
      ],
      "source": [
        "pip install bio"
      ]
    },
    {
      "cell_type": "markdown",
      "source": [
        "#Segunda **parte**"
      ],
      "metadata": {
        "id": "DAgpooGXSPK9"
      }
    },
    {
      "cell_type": "markdown",
      "source": [
        "Programa que traduzca de aminoácidos a letras\n",
        "\n",
        "**forma 1**: Utilizando un diccionario\n",
        "\n",
        "secuencia de ejemplo: **SerMetLysGlnThrTrpPheCysArgSerMetLysGlnThrCysArgSerLysGlnThrCys**\n",
        "\n",
        "  "
      ],
      "metadata": {
        "id": "OyCeKw7KSaHs"
      }
    },
    {
      "cell_type": "code",
      "source": [
        "s_amino_acid = input(\"Ingrese la secuencia de aminoácidos:\") #ingreso de la secuencia\n",
        "aa_dict = {'Ala': 'A', 'Cys': 'C', 'Asp': 'D', 'Glu': 'E', 'Phe': 'F', 'Gly': 'G', \n",
        "           'His': 'H', 'Ile': 'I', 'Lys': 'K', 'Leu': 'L', 'Met': 'M', 'Asn': 'N', \n",
        "           'Pro': 'P', 'Gln': 'Q', 'Arg': 'R', 'Ser': 'S', 'Thr': 'T', 'Val': 'V', \n",
        "           'Trp': 'W', 'Tyr': 'Y', 'Sec': 'U', 'Pyl': 'O'}\n",
        "\n",
        "s_una_sola_letra = '' #aqui guardaremos la secuencia\n",
        "for i in range(0, len(s_amino_acid), 3):\n",
        "   # en cada iteración se selecciona una subcadena de tres letras de la secuencia\n",
        "    aa = s_amino_acid[i:i+3] #la subcadena será la clave\n",
        "    if aa not in aa_dict:#si no corresponde la clave-valor nos alertará\n",
        "      print(\"ALERTA ->\", aa,\"no corresponde a ningún aminoácido\")\n",
        "    else:\n",
        "      s_una_sola_letra += aa_dict[aa] #buscamos el código de una sola letra\n",
        "print(\"la secuencia ingresada fue:\", s_amino_acid)\n",
        "print(\"la secuencia corta es :\",s_una_sola_letra)\n"
      ],
      "metadata": {
        "colab": {
          "base_uri": "https://localhost:8080/"
        },
        "id": "-dBF2StKSMaY",
        "outputId": "cc17a1a4-6a48-4d45-8c2c-f367f0d85f1b"
      },
      "execution_count": null,
      "outputs": [
        {
          "output_type": "stream",
          "name": "stdout",
          "text": [
            "Ingrese la secuencia de aminoácidos:SerMetLysGlnThrTrpPheCysArg\n",
            "la secuencia ingresada fue: SerMetLysGlnThrTrpPheCysArg\n",
            "la secuencia corta es : SMKQTWFCR\n"
          ]
        }
      ]
    },
    {
      "cell_type": "markdown",
      "source": [
        "secuencia de ejemplo: **MKKDLIFEALVELISEKQYSALSKVILNYYGLLGSYVYVDNPSYKFWKEVGVIRGERTYEPRVWVPNVDEKDFEPKEVEEDKELFEEIKEVVRKGGYSCFAIVFVRDFLQENANQVVRQGQQQPAFLYLFKDTVIASTFNNTFFDPQGGVPYQMKWMKDFPRISPTDLCLVMDNFPRYMFSKRKVEVNDKKNVKDFLQEMLAFVLNQSEFSKDAVDAEVISAVKAVKEVNLPDVKIEAVVAEQLTKYSKDFDQQIKKTDNEEL**\""
      ],
      "metadata": {
        "id": "Gb6WYvaPeaQo"
      }
    },
    {
      "cell_type": "code",
      "source": [
        "aminoacidos = {\n",
        "    \"A\": \"Ala\",  \"R\": \"Arg\", \"N\": \"Asn\",  \"D\": \"Asp\",  \"C\": \"Cys\",  \"Q\": \"Gln\",  \"E\": \"Glu\", \"G\": \"Gly\",  \"H\": \"His\",\n",
        "    \"I\": \"Ile\", \"L\": \"Leu\",  \"K\": \"Lys\",  \"M\": \"Met\", \"F\": \"Phe\",  \"P\": \"Pro\",  \"S\": \"Ser\", \"T\": \"Thr\", \"W\": \"Trp\",\n",
        "    \"Y\": \"Tyr\", \"V\": \"Val\"}\n",
        "\n",
        "# Ingresa la cadena de aminoácidos en código de una letra\n",
        "cadena_una_letra = input(\"Ingresa la cadena de aminoácidos en código de una letra: \").upper().replace(\" \", \"\")\n",
        "\n",
        "cadena_tres_letras = \"\"#creamos una lista vacia\n",
        "for aa in cadena_una_letra:\n",
        "    if aa in aminoacidos:\n",
        "        cadena_tres_letras += aminoacidos[aa] + \" \" # Convierte la cadena de una letra a una cadena de tres letras\n",
        "    else:\n",
        "        print(\"El carácter \" + aa + \" no corresponde a ningún aminoácido conocido.\")#nos manda una alerta\n",
        "\n",
        "\n",
        "print(\"La cadena de aminoácidos en código de tres letras es: \" + cadena_tres_letras.strip())#mostramos el resultado\n"
      ],
      "metadata": {
        "colab": {
          "base_uri": "https://localhost:8080/"
        },
        "id": "l9-YwVY-cLM9",
        "outputId": "fe1d3498-6325-4600-a1dd-d7e74b2686d1"
      },
      "execution_count": null,
      "outputs": [
        {
          "output_type": "stream",
          "name": "stdout",
          "text": [
            "Ingresa la cadena de aminoácidos en código de una letra: alapt\n",
            "La cadena de aminoácidos en código de tres letras es: Ala Leu Ala Pro Thr\n"
          ]
        }
      ]
    },
    {
      "cell_type": "markdown",
      "source": [
        "**forma 2** : Usando la librería Biopython y el modulo Bio.SeqUtils se puede hacer lo inverso"
      ],
      "metadata": {
        "id": "EpLFTZ7uVVNA"
      }
    },
    {
      "cell_type": "code",
      "source": [
        "from Bio.SeqUtils import seq1 #importamos función seq1() del módulo SeqUtils de la biblioteca Biopython.\n",
        " \n",
        "s_amino_acidos = input(\"Ingresa la secuencia de aminoácidos:\") #pedimos que se ingrese la secuencia \n",
        "secuencia_corta = seq1(s_amino_acidos) #usamos la funcion seq1()\n",
        "print(\"la secuencia ingresada fue:\", s_amino_acidos)\n",
        "print(\"la secuencia corta es:\",secuencia_corta)# mostramos en pantalla el resultado"
      ],
      "metadata": {
        "id": "xSEC1j9PVlAd"
      },
      "execution_count": null,
      "outputs": []
    },
    {
      "cell_type": "markdown",
      "source": [
        "#**Tercera Parte**"
      ],
      "metadata": {
        "id": "D39nOrFgVuRG"
      }
    },
    {
      "cell_type": "markdown",
      "source": [
        "Obtenemos una secuencia proteica, buscamos secuencias homólogas en la base de datos de NCBI, imprimimos la información sobre las secuencias homólogas encontradas y se realiza un alineamiento de secuencias."
      ],
      "metadata": {
        "id": "kIaGsxfUWB4M"
      }
    },
    {
      "cell_type": "code",
      "source": [
        "from Bio import Entrez, SeqIO\n",
        "from Bio.Seq import Seq\n",
        "from Bio.Align import MultipleSeqAlignment\n",
        "from Bio.Align.Applications import ClustalOmegaCommandline\n",
        "from Bio.Blast import NCBIWWW, NCBIXML\n",
        "from Bio import pairwise2\n",
        "from Bio.Align import MultipleSeqAlignment\n",
        "\n",
        "Entrez.email = \"myself@mail.com\" #accedemos al NCBI para extraer la secuencia con su respectivo ID\n",
        "handle = Entrez.efetch(db=\"nucleotide\", id=\"NM_001275843\", rettype=\"fasta\", retmode=\"text\")\n",
        "record = SeqIO.read(handle, \"fasta\")\n",
        "sequence = record.seq\n",
        "handle.close()\n",
        "\n",
        "print(\"Datos de la secuencia:\", record)\n",
        "print(\"------\" * 10)\n",
        "\n",
        "# Limpiar secuencia de posibles residuos no deseados\n",
        "sequence = sequence.strip(\"N\").upper()\n",
        "\n",
        "# Transcripción\n",
        "mRNA = sequence.transcribe()\n",
        "print(\"secuencia de mRNA:\", mRNA)\n",
        "print(\"------\" * 10)\n",
        "\n",
        "# Traducción\n",
        "protein = mRNA.translate()\n",
        "print(\"secuencia traducida\", protein)\n",
        "print(\"------\" * 10)\n",
        "\n",
        "query_seq = protein\n",
        "# Ejecutar una búsqueda BLAST en línea\n",
        "result_handle = NCBIWWW.qblast(\"blastp\", \"nr\", query_seq)\n",
        "\n",
        "# Analizar los resultados y obtener las secuencias homólogas\n",
        "blast_records = NCBIXML.parse(result_handle)\n",
        "homologous_seqs = []\n",
        "for record in blast_records:\n",
        "    for alignment in record.alignments:\n",
        "        for hsp in alignment.hsps:\n",
        "            homologous_seqs.append((alignment.hit_id, alignment.title, hsp.expect, hsp.score, hsp.bits))\n",
        "\n",
        "# Mostrar las secuencias homólogas encontradas\n",
        "print(\"Secuencias homólogas encontradas:\")\n",
        "print(\"------\" * 10)\n",
        "\n",
        "\n",
        "for homologous_seq in homologous_seqs:\n",
        "    print(\"ID: \", homologous_seq[0])\n",
        "    print(\"Título: \", homologous_seq[1])\n",
        "    print(\"Expect: \", homologous_seq[2])\n",
        "    print(\"Score: \", homologous_seq[3])\n",
        "    print(\"Bits: \", homologous_seq[4])\n",
        "    print(\"------\" * 10)\n",
        "\n",
        "# Obtener la secuencia de la homóloga de la base de datos  PROTEINAS\n",
        "    handle = Entrez.efetch(db=\"protein\", id=homologous_seq[0], rettype=\"fasta\", retmode=\"text\")\n",
        "    homologous_record = SeqIO.read(handle, \"fasta\")\n",
        "    handle.close()\n",
        "    \n",
        "    alignments = pairwise2.align.globalxx(protein, homologous_record.seq) #Alineamiento\n",
        "\n",
        "\n",
        " # Se muestra en pantalla el alineamiento\n",
        "    for alignment in alignments:\n",
        "        print(pairwise2.format_alignment(*alignment))\n",
        "\n"
      ],
      "metadata": {
        "colab": {
          "base_uri": "https://localhost:8080/"
        },
        "id": "vrDzFDQnP5n7",
        "outputId": "3a9cdffc-9f91-48e3-d333-d09b5444b761"
      },
      "execution_count": null,
      "outputs": [
        {
          "output_type": "stream",
          "name": "stdout",
          "text": [
            "Datos de la secuencia: ID: NM_001275843.1\n",
            "Name: NM_001275843.1\n",
            "Description: NM_001275843.1 Drosophila melanogaster Leucine-rich repeat kinase (Lrrk), transcript variant D, mRNA\n",
            "Number of features: 0\n",
            "Seq('GACAAAAAGGTAAACAAAGTGAAAATTTCGCAAAATGTGCAAAATAATTAAGTA...GCC')\n",
            "------------------------------------------------------------\n",
            "secuencia de mRNA: GACAAAAAGGUAAACAAAGUGAAAAUUUCGCAAAAUGUGCAAAAUAAUUAAGUAAGGGUCAGUAAAAGGUGCUACUGGUUAAUCGGACCAUAACAACUACCCAUUUAACACAUACCAUGCAUGACUUGGAUAUCUCGUGAAGUACACAAACCAAAACAAUGAGCGACUCCGACGAAGCAAGGGCACAGGGUGACAUUGGUGCAAUGGAAGUGGGCGCGCAAAAACUUUUUUCAAACAGCCACCCCCCACAGAAGCAACUGGUGCAACCACUGGACCAUCCGACACCCACGAAGAGACAAAUCAAAACAAAUGCCACGCACUCACCCAAUGCCACAUUCUUGAACAAGUGCAACAGUUGCCGCGCUUCUUGGGCUCCGACUUGCGCAGUGCGACAUAAAACGGCCUGGAUCAAUGACCACAAAAACGUGGCCAUCGAUUUUCCGCAGUUCAAUGCCCGCGAGGAAGUGCGUCAGAUCAAGCACGGGGAGCUGCGAACGGCAGUGAUCUCUGGCGAUGAGCGGACUGUGCGGGUGCUGCUGGCAGCUCUUGGAACUGAGCGUCAGAUUAUAGUCAAUAUGGCUCCUUCAGGAGCAAACACCCUUCUAUUCCUAGCCUGCCAGUCUGGUUACGAGAGCAUUACACAGCGAUUGCUGGAUGCUGGAGCGGAUGGUCGCUCCCAUGCCGUGACCAAGUACUCACCCUUGUACGCCGCCGUCCAUAGCGGUCACUUGGGCAUUGCCCGACUGAUGCUAGACCAUUUUCCAGAACUGAUCCAGCAGCCGACUGUAGAGCGCUGGCUGCCGCUGCACGCCGCCUGCAUCAAUGGACACAUCAAGCUGCUGGAACUCCUUAUCAGCUACAGUUAUCCCGACUACCUCUACCAGACAUAUCGCGACGAGGAGGGCCAGUGGGAAUGGCGGCUCCCCUUCGACGCUAACGCUCAUGAUGUGACGGGUCAGACGAGUCUGUAUAUUGCCAGCAUCCUAGGAAACAAGCAGCUGGUUGGUGUGCUUCUAAAGUGGCAGCUCCAUUGCCGGCGUACGUUGGGCGAUUCCGCCAGCUCGGUGAGCACUCCUAUUACGCCCACCAGGAAACGUAUUUCAUUUGGCAUUCAGGCUAUCAUGUCCAAACUGCACAUAUCUGGAGAGUCAGAAGGACCCGACGACCUAGCUUCACAAGAGUCAACCGAGUGCCAACGGUGUCCCAUUAACGUGAAUCUGCUAUGUGGAGCGGCGAGAGAAACAGCUCUGCUUGCGGCCGUUCGAGGCGGCCACCUAGACGUGGUGCAGUCUCUGCUACAGCACGGCGCAAAUCCGAAUAUUGUAGCCAAGCCAGUUGAGGAUCACAACGACCCGAAAUGUUGCGAGGAAAUAUAUGGGCUCAGUAAUGUCCCCAUUGCAGAGGCCUGCAAGCAAAGGUCGCUGGCUAUGUUGGAUCUCUUGCUUAAGCAUGGAGCCCGCGACGAUAAUGGCACGGCCAUUGGAAUGGCUAUUACAUGCGGCGACGAGGCCAUCCUGAGUCGUCUUUUGGCCCGACGAGUCCAUCCGGACUCAGACUACAAGAUCAACAAGAAGGGUCUUCCCACACCAGUGGAGGUGAACGUGUUUUUGCCGUCCACCAGCAACAUAUCUUACAGUGCUAUGUUCCCCAACAAUCCAACCAUUAUUGACUGGCACAGCAUGGGCUCCAGUGUCCAGUUGUCUGUUGUAAGGGUUCCCUGGAUGGUCAGCGGUGUGUUGCUGCUGAAUCCUAAGCUACAGUCGCAUCCGCGACUUAAUGAGGUUGCUCUGACAGCUAUCACGCGAAUAGAUUUCUCGCACAACGUUCUCACGUCAAUUCCACAGGAGCUUUUCCAUUUGGUUAGCCUAAGGUAUUUAAAUGUGGCGCAAAACAAGAUAACCGAUCUACCUGCACCAAUAGGCCAGACAUAUGGGUGUCCGGUACUGGAUGAACUCUUUCUACAAGACAACCAGUUAACUACGCUGCCAGCCGCCAUCUUUCACCUGCCCGCCCUAUCUAUAUUGGAUGUUUCAAAUAACAAACUGCAACAGCUUCCCUUCGACCUGUGGCGUGCACCCAAGUUGCGCGAACUUAAUGUGGCCUUCAACCUAUUGCGGGAUCUUCCUGUGCCGCCAAUGCAAACUAGCAGUUCGCUGCUGAGCCUAGACAAAUUGAAUCUGCAAUCUUUUGAGGAGCCGCCAUCAAACAAACCGCGAAAUGUGACUCAGCAACGUCUCACCCAUCGCAAUCUAUGGUCGGCUACUUUGGACAUAACCGAUAAUGACAUGAAGUGGCAGCAUGAACAAGAUUUAGGCGAUGGAAAGACAGCUGGUGUGGGCUCCUCCCAGCUAAGUAGCUUAAAUAUAGCAAAUAACCUCUUCACCAGUAUCCCCGCUGCUUUGCCCUGUCUGGCUGUAAACCUAACACGGCUGAAUAUGUCAUACAACAGUCUGCGUUCUAUGGGACAUGUAACCAGUUACCCGGCAACACUUAAGCAGUUGGAUCUAAGUCACAACGAGAUAUCCUGCUGGCCAAGUUUACCGCGAAUUACUGAAUCGGAUCCGCAUCUACUGUGCUACAGUUGUGUCCAGCUACCAGAGGGUCGAGAUGACGACUACAAGACGGCCUCCUCAAAGGGCAGUAGCUCGUCUGCCACAUCGUUUCGCGCUUCGGUGUUAAAAAGUGUUUGUCGGCACAGGCGUCAUCUGCGCCUGGAGGCUCUACGCACAUUGAUCUUGGCUGACAAUCUGCUUACGCGCAUCCAACUAUCAACUGAUGACGCCACAACCCUUUUCAAUGAAAGUGAGGACGCCGAUUGGAGUGUGGUAGGCGUGAACCGGUCUAAGGUGAUAUUUCCCAACCUGUCUAUGCUGGAUAUGACCAACAAUUGCCUGAAGGAGAUUCCCGCCUCGUUGCACGAACUGAGCAGUCUGUCAGUGCUGAAUAUUAGUGGCAACGUCAACAUCACGGAACUGCCGCCGCACUUGGGACUGCUGUCGAGACUUUGGAAUCUUAAUACGCGCGGUUGCCUACUGCAGGAGCCACUGCGCUCUAUGAUCGAGAGCAAGAAGCACAAGACGAUGGACAUUGUUGGAUAUCUUAAAUCUAUUUACGAAGAUGCUCAGCCCUACGCACGGAUGAAACUGAUGGUGGUUGGUGUGGCUGGAAUUGGCAAGAGCACUCUGCUGGACUUACUGCGCCAGGGGGCGGGCUCAGGGUCCAGCUCCAGCUCUCAUCGAUCGCGCGCCAGCGAAAAUCAUUGGGCCAAGCGAAUGGGACACGCACGCAGCACAUCUCGAUCUCAUCGCCAUUCGUCGGCUUCUAGCGCAAACAUUUCUACAGUAGGAGUGGACAUUGGAACAUGGAUAUGUGAGAAACGAAAGCGAGCACCCGGCUCCCACGGCCCAGUGGUGUUUCGUACUUGGGAUUUUGGUGGUCAGAAGGAGUACUACGCCACACAUCAGUACUUUUUGUCCAAACGGAGUCUGUAUUUGGUGCUCUGGCGCAUUAGCGACGGUCACAAGGGUCUGGCGGAGUUGCUGCAGUGGCUUGGCAACAUUCAAGCGAGGGCUCCCAACUCCCCCGUAAUCAUUGUGGGCACACACUUUGAUGCCGUUGGUGAAUCCAUCUCGCCCCAAAAGGCAGAGCAACUGCAGCAAUUGAUUCGGGAGAAGUUUAUCGCCAUUCCCGAUGCGGAAAAAAUUGGGCUGCCACGGGUGAUUGAUUCCAUCGAAAUAAGUUGCCGGACCCUACACAAUAUCCACUUAUUGGCCAACAUUAUUUACGACACCGCCAUGCAACUGCGAUCCCCUGGUUCCAAGGAGCCCAUGCUACUGCAAAAGAUCCCCGCCAGCUACAUUGCCUUGGAGGAUAUUGUGAAUGUGAUUGCAUGCAAUCUGCGCGCUGCUGGGCGAGAUCCCGUCCUGGAUGGUGAACAAUAUAAGCGCUUGGUCACCGAACAGAUGAGAUUGCACAACUACAAGAGCUUCCGGGAUGCCGCUGAGCUGCAGCAGGCCACUACAUGGUGCCACGAAAAUGGAGUUUUAUUGCACUAUGAUGAUGCUACGCUAAGGGACUACUACUUUCUCGAUCCACAGUGGCUUUGCGACAUGCUGGCCCAUGUGGUCACCGUGCGGGAGAUCAACCCCUUUGCUCCUACGGGCGUGAUGAAGCUGGAUGAUCUCCAGAUGUUGUUCCGAAGUGUGCAGGUUCAAGGAAAUGGAAACAGAAGCUACAUUGUCAGUCUACUUAACAAGUUUGAGGUUGCUUUAACGUGGGAUUCGAGAACUCUACUCAUACCCUCCUUACUGCCUUCGCAGGAGGCAGCUACACCCAAUUCAGGAAGCACGGUUAAGCUAUCGCAACGAUCUCGCGGCCGUAGUUUGGGUUGCUCUGUAUCGCAAGAAGUAAAUCUAAAUAAUUUGAUAUACGAACAGAGGUCAGCUCCUUCUUCAUCAUCUUCCUCUGCAUCGGUUAGCCAAGGCUUGCGGCGCAUCCUAUUGAUGACUUAUUUCCCGUCCGGGUUUUGGUCAAGAUUAAUCACCCGGAUUUUAGCUGAUGAACAAAUAAUCGAAGCAAUUCGUGGCGUUUAUAUGGCUUCACAAGAUUACGCGGACUUUGAUCUACGCACAUCGUUGGAGCAGGACACCCAAUGGAAUCUUUGGCAGACAGGCUUAGCACUGUACUAUGGACCUAUCUUAAUAUUCAAGAUCUGGGAAGUACCCUUUCAGAAGACAGAGCGAACGCAACCUUUCCGCACUGAUGGCAACCGAUUUAAGCUGAAACAAGAUGGUAUCUGGAGCGAUGUAAAUCUCAGCUCCUCUAGCAUUUUGGAAGUUUACUUUCCACUCUAUGAAGUGAACAUAUCGCAAGAAGUGGAUGACAAUGAACGUCAAUUGCUGGCCGAGAUUCGUCCGCACAUGUCUCAGGUGGCCAAGCUUUUGGCCCUAACAGUGGAUCAUAUUGACUUGCUUUUGGAGGAUUGGUAUCCUUCAUUGGGAACGCGGUUUGUGCACACUUCCGAGGGUCGAUUCCUAAUCACUCGAUUGGUGUUGUGUCCGCGAUGUCUUUGGAAGUUGCAGCUGCAGCAGAACAACGAACCGUCUGAUCGGGAAGUGCCUCCAGUGGGUUGCAAUCGACCAAGUCGAAGUAGUAGGCGUGGAGCGGGAGCAUACUUUCUCCACGGUGUAGGUGAUCCCGGAGAGGAUGGUGCUUUAAACGUGUUCUCGGCCUAUUUAAACGCCACAGCAAGGAGAGAACGCCGAUCGGAGGAUUCUUUGGGUGCUGGAUCCGACGCGGACUCGGGCGUGGGUCCCGACUCAGCCGGUUCUUCGCGCAACACUUCAGUUGAUGGUCAUCCCGGAUAUCACUUGCCUGAUAACUCAAAUGUGUGUUAUGCUUGGAUGAUUGAGGAGUGCAUUUUGUCCGUUUAUAAUCAAAGCAAGAUUAGUUGCCCUGUUCAUCUUGAACAGUCUAUGGCUCAGCUUGCGCCAGACGUAAUCUUUGCCGAUAUUCCUGAUAAGCACACUAUUCCAAGCGAGUGCAUCAUCAAGGGAUCGUUGCUUGGUCGAGGUGCUUUUGGGUUCGUUUUUAAAGCAAAUUGCAAGGUAAGGGGCGCCAGAUCCUUUAAGCCGGUGGCAAUGAAAAUGCUUCAGCCAGUGCCUCCCGGAGCUCGUGCAAAAGAGAGCGCUUUGAUGGCUUUCAAGGUAGCUGUAGGCAAAUGGGACCGGGAUCCACUGCAGCACUCUUGCAAGGCCUACUGCACUGCGCGUCAGGAAUUGGCAGUACUUCUAACUCUCAAGCAUCCAAACAUUGUACCCUUGGUCGGGAUCUGCAUUAAACCAUUAGCUCUGGUUCUGGAACUAGCUCCUCUAGGCGGUUUGGACGCUUUGCUCCGGCAUUACCGACGCAGCGGAGCCCACAUGGGACCGCAUACUUUCCAGACCCUUGUCCUGCAGGCGGCUCGAGCAAUCGAGUAUUUGCAUCGCAGAAGAAUCAUCUACCGCGAUCUAAAGUCUGAAAAUGUCUUGGUUUGGGAGCUUCCACAACCACACACGGAAGACAGUCCCCGCAACCUUGUGCACAUAAAGAUUGCCGACUACGGAAUUAGCCGGCAAACUGCUCCAAGUGGAGCUAAAGGAUUUGGUGGCACCGAGGGUUUUAUGGCUCCGGAGAUCAUACGCUACAAUGGUGAGGAGGAAUAUACUGAAAAGGUGGACUGCUUCUCAUUUGGAAUGUUCAUAUAUGAGAAUAUCAGUUUACGACAACCUUUCGAAGGCCACGAGUCUAUUAAAGAGUGCAUCUUGGAGGGUAGUCGCCCGGCUUUGACUCAAAGGGAAACCCAGUUUCCCACCUGCUGUUUGGAUCUUAUGGUCUUGUGUUGGCACGAACAGCCUCGUCGCAGACCGACGGCAAGUCAGAUUGUUUCCAUACUAAGUGCACCGGAGUGCAUCCACCUCCUGGAUGUCGUUGCCAUGCCGCAUAGCGAGAAGAUUGUCUGUGGGGUUUUUCAGUCGCUUGUUGGUAUGGGCGAUGAUGAACGAUGUGGUCUUGAACUGUGGCUACCCUCCUUCGGCUCUCGCAUUGACAUUCUAGACUGCUCACCCUCGGGCAGCCUACUGCAGUGCAACAGCAUCAGUUGUUCUCCGCAGCCACAGGUUGCUCCGCCCAAGACACCCGAAAACGGUGCAAAUUCACGUGCCCGCUCUGCCCAACGUUUGCCCAAGAUGAACAUGUUGUGCUGCUGCCUGGUGGGUGAAGCCAUCUGGAUGGGCGACGUUUCCGGCAAUCUGCACGCCUAUAGCACAUCCACCUAUGCCCACCUGUUUUCCUACAUGCUCGAUCCCAACAUUAAGUCAGCUGUGAUCAGUCUAGUCUACAUGGAGAAAAUAGCUCGCGUGGCUGUCGGAACGCAUAACGGUCGGGUGUUCCUUGUUGACGCCACGCAGAUGCCCAGCAAUUGCGCAUUUGCCGAGGGCUCUUUUGUGCUUACAGAGAUCUGUUCUGGUUUUGUGUUGCACGCCGCUUGUUCCGUUGUUGUGGAUGGAAUCUAUGAAUUGUGGUGCGGCGAAAUUGCAGGAAAGAUAAAUGUUUUUCCGUUGAACGAGAAUGGAGUUUCCGGACAUCAGGCUUUAUGCCACAGCGAGGAACCCAAUCUCAUCGAGGACGUCAAGGUGGCUCGAAUGUGCAGUAAUGAAAGCCAUGUGUUCAGUUGUCUAUAUCCCGGUUGUAUGGUGUACCAGUGGGAUGUUAUCUCCAAGCGGAUAGAAAAUAAGCUGGACUGCUCAAAGCUGCUGCCCUGCUCCGAGUCUCUGCAAAGUAUUGCGAUUGAUGAGCAUGUGAACCUUAUAAAAUGCCAGAUUUCGGCACUGGCGGCUCACAAUUCAGAACUGUAUAUUGGGACGACCUGGGGCUGCUUAAUUGUGGCCGAACUGCACACCCUGCGCCCCAUUAGUGUUUUCCGACCCUAUGAAAAUGAGAUCAAAUCUAUAAUAACCCUUUCUAAAGACAAUGUUCCGCUGAUCGCCACGAUCGGAAGACGAUAUCGCUCUCUGAUCUCUCGAUAUGUGGACUCCGCAGAGUCAUCCACCAAGAGCUCUGCCGUCAGCACACCCACCCAUGGUGCAGCCAAAUCCGUGCCACCGGCGGAUGUGGAUAAUCACAUUCAUUGCCUGCUGUGGCGCGCCAAGCACUGGACCUAAAUUCGAUCUCAUUCAAAAUAUUUGUUGACGUAUUUAAUAAUCCAAAAAUCCUUACACAAACUUGUUAAGAAGGUGCUAGUUACAUAUGAGGUAUAUUCGCUGAGGAGUAUUUAUUUACUGUCCUAUUUAAUGUAAAAUUUUUGCC\n",
            "------------------------------------------------------------\n",
            "secuencia traducida DKKVNKVKISQNVQNN*VRVSKRCYWLIGP*QLPI*HIPCMTWISREVHKPKQ*ATPTKQGHRVTLVQWKWARKNFFQTATPHRSNWCNHWTIRHPRRDKSKQMPRTHPMPHS*TSATVAALLGLRLAQCDIKRPGSMTTKTWPSIFRSSMPARKCVRSSTGSCERQ*SLAMSGLCGCCWQLLELSVRL*SIWLLQEQTPFYS*PASLVTRALHSDCWMLERMVAPMP*PSTHPCTPPSIAVTWALPD*C*TIFQN*SSSRL*SAGCRCTPPASMDTSSCWNSLSATVIPTTSTRHIATRRASGNGGSPSTLTLMM*RVRRVCILPAS*ETSSWLVCF*SGSSIAGVRWAIPPAR*ALLLRPPGNVFHLAFRLSCPNCTYLESQKDPTT*LHKSQPSANGVPLT*ICYVERREKQLCLRPFEAAT*TWCSLCYSTAQIRIL*PSQLRITTTRNVARKYMGSVMSPLQRPASKGRWLCWISCLSMEPATIMARPLEWLLHAATRPS*VVFWPDESIRTQTTRSTRRVFPHQWR*TCFCRPPATYLTVLCSPTIQPLLTGTAWAPVSSCLL*GFPGWSAVCCC*ILSYSRIRDLMRLL*QLSRE*ISRTTFSRQFHRSFSIWLA*GI*MWRKTR*PIYLHQ*ARHMGVRYWMNSFYKTTS*LRCQPPSFTCPPYLYWMFQITNCNSFPSTCGVHPSCANLMWPSTYCGIFLCRQCKLAVRC*A*TN*ICNLLRSRHQTNREM*LSNVSPIAIYGRLLWT*PIMT*SGSMNKI*AMERQLVWAPPS*VA*I*QITSSPVSPLLCPVWL*T*HG*ICHTTVCVLWDM*PVTRQHLSSWI*VTTRYPAGQVYRELLNRIRIYCATVVSSYQRVEMTTTRRPPQRAVARLPHRFALRC*KVFVGTGVICAWRLYAH*SWLTICLRASNYQLMTPQPFSMKVRTPIGVW*A*TGLR*YFPTCLCWI*PTIA*RRFPPRCTN*AVCQC*ILVATSTSRNCRRTWDCCRDFGILIRAVAYCRSHCAL*SRARSTRRWTLLDILNLFTKMLSPTHG*N*WWLVWLELARALCWTYCARGRAQGPAPALIDRAPAKIIGPSEWDTHAAHLDLIAIRRLLAQTFLQ*EWTLEHGYVRNESEHPAPTAQWCFVLGILVVRRSTTPHISTFCPNGVCIWCSGALATVTRVWRSCCSGLATFKRGLPTPP*SLWAHTLMPLVNPSRPKRQSNCSN*FGRSLSPFPMRKKLGCHG*LIPSK*VAGPYTISTYWPTLFTTPPCNCDPLVPRSPCYCKRSPPATLPWRIL*M*LHAICALLGEIPSWMVNNISAWSPNR*DCTTTRASGMPLSCSRPLHGATKMEFYCTMMMLR*GTTTFSIHSGFATCWPMWSPCGRSTPLLLRA**SWMISRCCSEVCRFKEMETEATLSVYLTSLRLL*RGIRELYSYPPYCLRRRQLHPIQEARLSYRNDLAAVVWVALYRKK*I*II*YTNRGQLLLHHLPLHRLAKACGASY**LISRPGFGQD*SPGF*LMNK*SKQFVAFIWLHKITRTLIYAHRWSRTPNGIFGRQA*HCTMDLS*YSRSGKYPFRRQSERNLSALMATDLS*NKMVSGAM*ISAPLAFWKFTFHSMK*TYRKKWMTMNVNCWPRFVRTCLRWPSFWP*QWIILTCFWRIGILHWERGLCTLPRVDS*SLDWCCVRDVFGSCSCSRTTNRLIGKCLQWVAIDQVEVVGVEREHTFSTV*VIPERMVL*TCSRPI*TPQQGENADRRILWVLDPTRTRAWVPTQPVLRATLQLMVIPDITCLITQMCVMLG*LRSAFCPFIIKARLVALFILNSLWLSLRQT*SLPIFLISTLFQASASSRDRCLVEVLLGSFLKQIAR*GAPDPLSRWQ*KCFSQCLPELVQKRAL*WLSR*L*ANGTGIHCSTLARPTALRVRNWQYF*LSSIQTLYPWSGSALNH*LWFWN*LL*AVWTLCSGITDAAEPTWDRILSRPLSCRRLEQSSICIAEESSTAI*SLKMSWFGSFHNHTRKTVPATLCT*RLPTTELAGKLLQVELKDLVAPRVLWLRRSYATMVRRNILKRWTASHLECSYMRISVYDNLSKATSLLKSASWRVVARL*LKGKPSFPPAVWILWSCVGTNSLVADRRQVRLFPY*VHRSASTSWMSLPCRIARRLSVGFFSRLLVWAMMNDVVLNCGYPPSALALTF*TAHPRAAYCSATASVVLRSHRLLRPRHPKTVQIHVPALPNVCPR*TCCAAAWWVKPSGWATFPAICTPIAHPPMPTCFPTCSIPTLSQL*SV*STWRK*LAWLSERITVGCSLLTPRRCPAIAHLPRALLCLQRSVLVLCCTPLVPLLWMESMNCGAAKLQER*MFFR*TRMEFPDIRLYATARNPISSRTSRWLECAVMKAMCSVVYIPVVWCTSGMLSPSG*KISWTAQSCCPAPSLCKVLRLMSM*TL*NARFRHWRLTIQNCILGRPGAA*LWPNCTPCAPLVFSDPMKMRSNL**PFLKTMFR*SPRSEDDIAL*SLDMWTPQSHPPRALPSAHPPMVQPNPCHRRMWIITFIACCGAPSTGPKFDLIQNIC*RI**SKNPYTNLLRRC*LHMRYIR*GVFIYCPI*CKIFA\n",
            "------------------------------------------------------------\n",
            "Secuencias homólogas encontradas:\n",
            "------------------------------------------------------------\n",
            "ID:  gb|EDX12203.1|\n",
            "Título:  gb|EDX12203.1| GD19364 [Drosophila simulans]\n",
            "Expect:  0.0133752\n",
            "Score:  131.0\n",
            "Bits:  55.0694\n",
            "------------------------------------------------------------\n",
            "DKKVNKVKISQNVQNN*VRVSKRCYWLIGP*QLPI*HIPCMTWISREVHKPKQ*ATPTKQGHRVTLVQWKWARKNFFQTATPHRSNWCNHWTIRHPRRDKSKQMPRTHPMPHS*-TSA-TVAALLGLRL-AQCD------IKRPG--SMTTKTWPSIFRSSMP-ARKC--VRSST----GSCERQ*SL--AM--SGLCGCCWQLL-ELS--VRL*SIW-LLQEQTPFYS*PASLVTRALHSDCWML--ERM---VAP-MP*PSTHPCTP-PSI-AV-TWALPD*C*TI-F---QN*SS---S---RL*S--AGCRCTPPASMDTSSCWNSL--S-ATVIPTT--STRHI---ATRRA--SGNGGSPST-LT----LMM*RVRRVCIL---PAS*ETSSWLVCF*SGSSIAG----V-RWAIPPAR*ALLLRPPGNVFHL-AFRLS-CP-NCTY----L-ESQKDPTT*LHK--SQP-SANGV-P--L--T*ICYVERR-EK--QLCL---R-PFE-A-A---T*--TWCSLCYSTAQIR--IL*PS---QLRITTTRNVARKYMGSVMSPLQRPAS-KGRW-LCWIS-C---L--SMEPA----T-IMAR-PLEWLLHAATRP---S*VVFW-----------------PDE---SIRTQTTR-STRRVFPH--QWR*TCFCRPPATYLT--V-L-CSP-----TIQP-LLTGTAWAPVS---------SCLL*--GF--PGWS---A--VC-------CC*--ILSY--SR---I------RD-L-MRL-L*QLSRE*IS-----R----T------TF-------SRQFHRSFSIWL-A*GI*MWRKTR*--PI---YLHQ*A---RHM-G----VRYWM--NS-FYKTTS*LRCQPPSFTCPPYL----YW--MFQIT-NCNSFPSTCGV----HPSCANLMWPSTYCGIFLCRQCKLAVRC*A*TN*ICNLLRSRH--QTNREM*LSNVSPIAIYG-RLLWT*-PI-MT*-SGSM----N-KI*AMER-Q----L--VWAPPS*V--A*I*QITS----SP--V--S-P--L--LCPVW-L*T*HG*ICHTTVCV--LWDM*P-VTR-QHLSSW--I*VTTRY--PA--GQV-YR------EL-L--NRIRIYCATVVSSYQRVEMT-TTRRP-PQRAVARLPHR-FA-LRC*KVFVGTGVIC-AWRLYAH*SWLTICLRA--SNYQ--LMTPQPFSMKVRTPIGVW*A*TG-LR*YFPTC--LCWI*PTIA*RRFP-P--RCTN*AVCQC*I-L-VATSTSR-NCRRTWDCC--RDFGILIRA-VAYCR-----SHCAL*SRARSTRRWTLL--DI-LNL--FTKML----S--PTHG*-N*WWLVWLELA---RALCWTYCARG-RAQGPAPA-LIDRAPAKIIGPSEWDTHA-AH-LDLIAIRRLLAQTFLQ*E-----WTLE-HGYVRNESEHPAPTAQWCFV-LGILVVRRSTTPHIS---TFCPN-GVCIWCSGA---LATVTRVWRSCCSGL--ATFKRG--LP-TPP*SLW--AHT-LMP-L-VNPSRPK--RQS-NC-S-N*FGRSL-SPFPMRKKLGCHG*LIPSK*VAGPYTISTYWP-TLFTTPPCNC---DPLVPRSPCYCKR----SP--PAT-LPWRIL*M*L-----HAICALLGEIP--SWM-VNNISAWS--PN--R*DCTT----TRASGMPLSCSRPLHGATKMEFYCTMMMLR*GTTTFSIHSGFATCWPMWSPCGRS-TPLLL--RA**SWMISRCC---SEVCRF-KEMETEATLSVYLTSLRL-L*RGIRELY-SYPPYCLRRRQ-LHPIQEARLSYRNDLAAVVWVALYRKK*I*II*YT-NRGQLLLHHLPLH-RLAKACGASY**LISRPGFGQD*SPGF*LMNK*SKQFVAFIWLHKITRTLIY--AHRWSRTPNGIFGRQA*HCTMDLS*YSRSGKYPFRRQSERNL-SALM--ATDL-S*----N--KMVSGAM*ISA-P-LAFWKFTFHSMK*TYRKKW--MTMNVNCWPRFVRTCLRW---P-SFWP*QWIILTCFWRIGILHWERGLCTLPRVDS*SLDWCCVRDVFGSCSCSRTTNR-L-I-GKCLQW-VA-IDQVEVVGVEREHTFSTV*VIPERMVL*TCSRPI*TPQQ--GENADR---RILWV-LDPTR-TRAWVPTQPV--LRATLQLMVI-PDITCL---I------TQMC--VMLG*-LR-S----AFC-PFIIK-AR--L-V---ALF-ILN--S-LWLS-L-RQT*---SLPIFLI-STLFQASAS-S-RD-RCLVEVLLG-SFLKQI----A-R*-G-APDPL-S--RWQ*KCFSQCLPELVQKR----AL*WLSR*L*-ANG--T-G--IHCS-TLA-----RPTAL-R-------V--RN-W----Q--Y------F*LS--SIQTLYP---W--S-GSALNH*--LWFWN*--LL*AV-WTLCSG-ITD-A-AEP--------TW--DR-----ILSRP-----LSCRR--L--EQSS--IC-I--AEESSTA-I*S-LKM-----SWFG---SF----HN-HTRKTVP--A-----T---LCT*RL-PTTELAG-K---LLQVELKDLVA-PRVLWLRR-SYATMVRRNILKRWTASHLECSYMR-ISVYDNLSK--ATSL--LKS-ASW--RV--VA-------RL*------LKG---KPSFPP--AVWI--L-----WSCVGT--NSLVADRRQ-VRLFPY*V-HRS---ASTSWMSLPCRIARRLSVGF---FSRLLVWAMMNDVV---LNCGYPPSA--LAL---T------F*TAHPRAAYCSATASV-V--LRSHR--L--LRP-RHPKT-VQ---------IHVPA-LP-N---VCPR*TCCAAAW--WVKP-SGWATFPAIC-TP--IAHPPMPTCFPTCSIPTL--SQL*------SV*-STWR-K*LAWLSE---R-ITVGCSLL-T--P-----R---RCP--A---I--AHLP-R----ALLCL-Q--------R-SVLV-------LCC--TP-LVP-L-----L----WMESMNCGAAKL---Q--ER*MF---FR*T---RMEFP----D-IRLYATAR----NPI-SSRTSRW--LECAVMKAMCSVVYI-PVVWCTSGMLSPSG*K----ISWTAQSCCPAPSLCK-VL----R-LMSM*TL*NARF--R-HWR------L---TIQNC---I-LGRPGAA*L---WPNCTPCA-P-LV---F---SDPMKM--RSNL**PFLK-TMFR*S----PRSEDDIAL*S-LDMWTP--QSHPPRALP------SAHPPM---VQPNP--CH-R--RMWIITFI-----ACCGAPST----G---PKF--D--LIQNIC*RI**--SKNP-Y-T-----NLL--RRC*-LHM----RYI---R*G--VFIYCPI*CKI----FA----\n",
            "                                        |     |                              |                 |     |    |        |   |  |     | | ||      |      |       || |     ||    ||       |  |    |  |   |   |       |    ||      ||          |     |       |  ||    |   |           ||  |  |  |        |   |   |   |   ||    ||      |  |          | | |   |  |       |   |  |   |     |     | |        |   |   |    |        |      | ||          |  |     | |     |  |       | |        |    |   |     |  |  |   |   | |   |      | ||  | |   |   |  || |    |   ||      ||       |     | |   |      |  | |     |   |  |   |    | |    |        ||    |   |                  ||    |   |    ||        | |    |  |       | | |       |    ||   | | |          | ||   |   |      |  |        ||   |  |  |    |      |  | | | |  |           |    |      |        |    |     | |      |  |   |    |        |   |    |      |  |      |    || |         |   ||    | |  | |       | |    |      |                         |    |      || |        |      |  |   ||      | |       |    |  | |       |    ||     |   |  | |  |  |  |  |                |      |   |       |   |    ||  ||  |       || |  |             |      ||    |  | |      |  |              |  |    |   | |    ||    |   |                   |    |    | |        |   |  |            | ||      |          ||   |    |         |     |   |     ||  |  |||  |        |  |     |    |        | |  |      |        |             |     |  ||   |      |          |    |       |      |     ||                |     ||     |    |        |  | |  |       |  |   |    |   | | | ||       |   |  | |    || |   |    | |        |    | | | | ||           | |   |          |   |   || ||          |    ||      |   |         |   | |       | |     | |       |            |    |  |         |    | |      ||      |      | |||  |               |  |    | |  |     |  |  |  |          |      |              |        | |  |            |      |       |    |              |     |     |            |  |          |      |  |     | |  |     |  | |     |   | |        ||          || | |        ||     | |                 || |     |    | ||              |      | | |      |  |               |     |   |     |   |    |        | ||  |     ||          |   ||     |    |   |      | |   |  |  |  |    |   |     ||  | |   |   |    | | |  | ||     |       |     | | | |  |         |         | |  | |     |  |      |       | |    |    |     ||   | |  |    |       |     |       |  |  |    |  |      | ||  |   ||    |  | |    |   |       ||    | |  | |   | | |        |   |      | | |     |      |  |     |  |  | |     |   |       |      |     || |        |     |   |   |  |     | |   |||   |     |        ||       |     |  ||      | |  |     |     |   |    |   |        ||       |     | ||    |     |     | |     |         | |      |     | |    |      |        |   |      |     | |        ||    |      |  | |       |    |  |      |  |   |     ||         | |   |  |   |         |   |    |          |   |         |  |   |  ||        |   ||   |    ||    | |     || |  |     |   |    |   |  |    |    |     |        | | |        |    |  |   |     |    | |            |  ||      || |   |  |     | |           |   ||  |    ||          ||  |        |          ||   |           |     | |     |  |    | |        |   |       | |       |   |        | |    |   |       |      ||  |  |      ||          |  |    |      |       |        | | |  |  |  |            |  ||       |   |    |  |  |         |    | |     |    ||   |      |     |    |    |         ||    \n",
            "----------------------------------------M-----E------------------------------Q-----------------P-----K----T-------GT--ET--A-----LEA-CDYFVDEVI----EAS-------SI-R----DAR--EEVR---QIKHG--E----LRTA-VIS---G------DE--RTVR-----VLL----------A-----A-------LGTER-QIIV--NM----------APS-GA-NT--L-------LFLACQ---SGYESITQRL--LDAG------A--D--------GRSHA-V---TKYS----PLYA---AVHS---G----HL-GIARL-M--------LDRFP---E----L--------I--QQPTVERW----------L--P-----LHA----AC-IN---GHIKLLE--------L--LIS--YS----YPDYLYQT---Y---RDE-EGQ---WEWRLPF-DANAHDVT-GQT--SL-Y----I-ASIL---GNKQL-------V-----G-V---L-----LK--WQL----HCRRTLGDS---ASSVSTPI---TP--------TR-KRIS---F-GIQAIMSKLHISGESEGPD-DLAS---Q---EST------ECQ-R----C--P-----INVNLLC--GAARET---ALL---A-A-V-RGGHLDVVQS-LL-QHG-ANP---NIVAKPV-EDHNDPKCC-EEI--YGLS-NVPIAEACKQR-SLAM-LDL--L------LKHGARDDNGTAIGMAIT-GGDEAILS----R-----LLA------R--R-VHP-DSDY-----KINR--KGLPTPV----EVN-VF------L----PS-T-----SNISY-SAMF---PN-N--P-T---IIDWH-S----M------G-------------------------S--SVQ------LS-V-------VR-----VP-WM--VSG--VLLLNPK------LQSHPRLNDV-A-----LTA----IT-RIDFS-HNVLTSIPQELFHL--V-SL--------------RYL-----NV--AQ-----NKI---T--DLPAPMGQ-TY-GCPVLDELFLQDN-------------Q-----LTT---LP--A-A-----IF-HL-------------PA--L----S---I-L--DVSN--NKL---Q------------------QL----P--FDL-W--------R--APKLR-----------ELNVA-----FN--------LLRD---L---PV----PPMQTS-----S---S-----LLSLD-KLNLQSF----EEPPSNKP----RN----V-----TQQR-L--T-----HR-------NL-------------W----SA-TLD---I------T-----DNDMKW---QH-------E------Q----DLG-------------DGKT----AGV-----G-SSQL--------S--S-LNIA-----NNL-FT---S--IPA--AL-PCLAVN-----LTR--LN-MSYN----SLRS---M----G-H--------V----T-S-Y-PATL--------KQLD-L---S------HNEIS-CWP--SLP-RI-----TESDPH----LL----CYS--CV-------QLP-EGR-D---DDYKT-A-----S-S-------K------------G----S--S---------S----SAT----SFRA------S---VLKS-VCR-HK---------------R-HL----R-L-ES-----L--R-TL--I----------L------A-------------DN--------L-L-TR------------I------Q-------L----S--------------T---DDA-----T------------T--L----------F------N-ES---EDA-D-WS-VVGVNRFK-V-----I--FPNL--------SM--------LDMT-N-N--------CL--KEIPAS-----------------LH-E-----L----S-SL--------------S-----VLNISG-----NV-NI---------------T-----E---L-----P---P--HLG-----LLSR-LW-NL----NTR--------GCL---LQ----EP----LRSMIESKKHKT-M-DIV--G-YL-KSIYEDA--QP----YARMKLMVVGVA--GI--GKSTL-L-DLLRQ--GAGS------GS-----S-SGSHR-SR--------AS-----ENHWAKR-MGHA----RSTSR------S-------Q-RSHSSA----S----SAN-ISTVGVDI---GT--WICEKR----KRAPGSHGPVVFR-TWDFGGQKEYYATHQYF-LSKRS---LY-LVLWRISDG----H-KGL-----AELL---QW-L--GNI--QARA-PNSPVIIVGT-HFD-AVGESI-S-PQKAEQL----QQLIRE---KFI-AIPDA-E----KI--GL--PRVIDS---IEIS-CRTLHNIH------LLANIIYDTAMQL---R-SP-----GSKEPMLLQ---K----IP-------ASY-------I-----A--LE-----DI-V--N---VIA---CNL--RA--AGR-DPV-LDGEQYKRL-VTEQMRL--HNYK-SF--RDA---AELQQATTW-C---HEN--------GV-L-----LH--YDDA-T----L------R-----DYYF---L------D--PQWL-C------DMLA-HVVTVREINPF--A-P-------T---GVMKL----DDLQML--FR----SVQVKGNGNRSYI-V--SL-LNKFEV---------A-LTW---DS---------RT-LLI---------P--S---LLPSQ--EAATPNS--GST--VK----LS-QGLRRI-----LLMTYFPSGFWSRLITR--ILADEQIIEA---IRGVYMA----SQDMYADFDLRTS-L-EQDTQWNL--WQT-GL--ALYYGPILIFKIW-E---------VPFQKTER---TQPFR-TDGNR--F-KLKQDGI-------WSDVN--LSS--S--SILE----------VY-FP--------L------YEVDIS---Q----------EV-DDNERQL-----L--A--EIRPH--MSQVAKLLALT----VDHIDL-------LLEDW-------YPSL-GTRFVHTS-----EGR------FL-IT--R--LVLCPR---------CL--W--KLQ------L-QQNNELS-----DREV-P-PVGC-TRPSR-------SSRRGA--GA---YFLHGVGDP--GEDGAL--N-------VFS---AYLTPQHGGN--ADRR--IL--WELDR--TPTR--AWV----P-----TQPVFAQHFS\n",
            "  Score=725\n",
            "\n"
          ]
        }
      ]
    }
  ]
}